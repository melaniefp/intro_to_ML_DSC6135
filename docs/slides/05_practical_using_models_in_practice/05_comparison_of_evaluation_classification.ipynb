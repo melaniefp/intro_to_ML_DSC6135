{
 "cells": [
  {
   "cell_type": "markdown",
   "metadata": {},
   "source": [
    "# Comparison of Different Classifiers and Metrics\n",
    "## DSC-6135: Introduction to Machine Learning and Computational Statistics"
   ]
  },
  {
   "cell_type": "markdown",
   "metadata": {},
   "source": [
    "### Import important libraries"
   ]
  },
  {
   "cell_type": "code",
   "execution_count": 5,
   "metadata": {},
   "outputs": [],
   "source": [
    "import numpy as np\n",
    "import pandas as pd\n",
    "import scipy as sp\n",
    "\n",
    "#import data processing\n",
    "from sklearn.model_selection import train_test_split\n",
    "\n",
    "#import models\n",
    "from sklearn.preprocessing import PolynomialFeatures\n",
    "from sklearn.linear_model import LogisticRegression\n",
    "from sklearn.neighbors import KNeighborsClassifier as KNN\n",
    "from sklearn.tree import DecisionTreeClassifier as DecisionTree\n",
    "from sklearn.ensemble import RandomForestClassifier as RandomForest\n",
    "\n",
    "#import metrics\n",
    "from sklearn.metrics import confusion_matrix\n",
    "from sklearn.metrics import recall_score\n",
    "from sklearn.metrics import precision_score\n",
    "from sklearn.metrics import f1_score\n",
    "from sklearn.metrics import roc_auc_score\n",
    "from sklearn.metrics import classification_report\n",
    "\n",
    "#import visualization libraries\n",
    "import matplotlib\n",
    "import matplotlib.pyplot as plt\n",
    "%matplotlib inline"
   ]
  },
  {
   "cell_type": "markdown",
   "metadata": {},
   "source": [
    "### Define functions to generate and visualize data"
   ]
  },
  {
   "cell_type": "code",
   "execution_count": 15,
   "metadata": {},
   "outputs": [],
   "source": [
    "def make_toy_data():\n",
    "    '''\n",
    "    make_toy_data generates synthetic data for the cancer classification task.\n",
    "    \n",
    "    input: None\n",
    "    returns: \n",
    "       x_train - an numpy array of size 737 x 2, each row is a patient, each column is a biomarker\n",
    "       x_test - an numpy array of size 363 x 2, each row is a patient, each column is a biomarker\n",
    "       y_train - an numpy array of length 737, each entry is either 0 (no cancer) or 1 (cancerous)\n",
    "       y_test - an numpy array of length 363, each entry is either 0 (no cancer) or 1 (cancerous)\n",
    "    '''\n",
    "    \n",
    "    class_0_size = 1000\n",
    "    mu_0 = np.array([10, 15])\n",
    "    Sigma_0 = np.array([[50, -30], \n",
    "                        [-30, 80]])\n",
    "    class_0 = np.random.multivariate_normal(mu_0, Sigma_0, size=class_0_size)\n",
    "\n",
    "    class_1_size = 100\n",
    "    mu_1 = np.array([22, 6])\n",
    "    Sigma_1 = np.array([[20, 5], \n",
    "                        [5, 20]])\n",
    "    class_1 = np.random.multivariate_normal(mu_1, Sigma_1, size=class_1_size)\n",
    "    \n",
    "    x = np.vstack((class_0, class_1))\n",
    "    y = np.hstack((np.zeros(class_0_size), np.ones(class_1_size)))\n",
    "    x_train, x_test, y_train, y_test = train_test_split(x, y, test_size=0.33, random_state=42)\n",
    "    return x_train, x_test, y_train, y_test\n",
    "\n",
    "def scatter_plot_data(x, y, ax):\n",
    "    '''\n",
    "    scatter_plot_data scatter plots the patient data. A point in the plot is colored 'red' if cancerous \n",
    "    and blue otherwise.\n",
    "    \n",
    "    input:\n",
    "       x - a numpy array of size N x 2, each row is a patient, each column is a biomarker\n",
    "       y - a numpy array of length N, each entry is either 0 (no cancer) or 1 (cancerous)\n",
    "       ax - axis to plot on\n",
    "    returns: \n",
    "       ax - the axis with the scatter plot\n",
    "    '''\n",
    "    ax.scatter(x[y == 1, 0], x[y == 1, 1], alpha=0.2, c='red', label='class 1')\n",
    "    ax.scatter(x[y == 0, 0], x[y == 0, 1], alpha=0.2, c='blue', label='class 0')\n",
    "    ax.set_xlim((-20, 40))\n",
    "    ax.set_ylim((-20, 40))\n",
    "    ax.set_xlabel('marker 1')\n",
    "    ax.set_ylabel('marker 2')\n",
    "    ax.legend(loc='best')\n",
    "    return ax"
   ]
  },
  {
   "cell_type": "markdown",
   "metadata": {},
   "source": [
    "---"
   ]
  },
  {
   "cell_type": "markdown",
   "metadata": {},
   "source": [
    "# Application #1: Cancer Diagnosis Based on Biopsy Markers\n",
    "\n",
    "In this problem, we **revisit** the task of classifying whether or not a patient has a rare and aggressive type of skin cancer based on two biomarkers extracted from biopsies of skin samples.\n",
    "\n",
    "Last time, we decided that:\n",
    "1. ***accuracy*** is a bad metric (even terribles models can have 100% accuracy simply due to class imbalance).\n",
    "\n",
    "2. visualizing the ***decision boundary*** of a classifier is a better way to evaluate model performance, but it is not possible to visualize most real-datasets (due to the large number of features).\n",
    "\n",
    "2. the ***confusion matrix*** is a better way to assess the performance of classifiers, but we still prefer a single number to summarize aspects of the matrix we care about.\n",
    "\n",
    "Today, we see that we can build many metrics from the confusion matrix:\n",
    "\n",
    "1. True positive rate\n",
    "2. True negative rate\n",
    "3. Precision (implemented by `sklearn`)\n",
    "4. Recall (implemented by `sklearn`)\n",
    "5. Positive predictive value\n",
    "6. Negative predictive value\n",
    "7. Macro f1 score (implemented by `sklearn`)\n",
    "9. AUC (implemented by `sklearn`)"
   ]
  },
  {
   "cell_type": "markdown",
   "metadata": {},
   "source": [
    "#### Make a toy training and testing classification data set \n",
    "\n",
    "We generate toy data for this application. `x` is a an array where each row represents a patient and each column represents a biomarker. `y` is an array of `0`'s and `1`'s, where `0` indicates absence of cancer and `1` indicates presence of cancer."
   ]
  },
  {
   "cell_type": "code",
   "execution_count": 7,
   "metadata": {},
   "outputs": [],
   "source": [
    "x_train, x_test, y_train, y_test = make_toy_data()"
   ]
  },
  {
   "cell_type": "code",
   "execution_count": 8,
   "metadata": {},
   "outputs": [
    {
     "name": "stdout",
     "output_type": "stream",
     "text": [
      "Number of patients: 737\n",
      "Number of features: 2\n"
     ]
    }
   ],
   "source": [
    "print('Number of patients:', x_train.shape[0])\n",
    "print('Number of features:', x_train.shape[1])"
   ]
  },
  {
   "cell_type": "markdown",
   "metadata": {},
   "source": [
    "#### Visualize our data"
   ]
  },
  {
   "cell_type": "code",
   "execution_count": 9,
   "metadata": {},
   "outputs": [
    {
     "data": {
      "image/png": "[encoded data removed]",
      "text/plain": [
       "<Figure size 720x360 with 1 Axes>"
      ]
     },
     "metadata": {
      "needs_background": "light"
     },
     "output_type": "display_data"
    }
   ],
   "source": [
    "fig, ax = plt.subplots(1, 1, figsize=(10, 5))\n",
    "scatter_plot_data(x_train, y_train, ax)\n",
    "ax.set_title('Training Data')\n",
    "plt.show()"
   ]
  },
  {
   "cell_type": "markdown",
   "metadata": {},
   "source": [
    "---"
   ]
  },
  {
   "cell_type": "markdown",
   "metadata": {},
   "source": [
    "## Exercise 1: choose an appropriate metric for this real-life task and this dataset\n",
    "Which of the metrics should we choose to evaluate our classifiers for this real-life task and this particular dataset? Justify your choice.\n",
    "\n",
    "Which of the metrics implemented by `sklearn` should we choose to evaluate our classifiers for this real-life task and this particular dataset? \n",
    "\n",
    "\n",
    "## Exercise 2: compare the performance of different classifiers on this dataset using your chosen metric\n",
    "\n",
    "### Logistic regression with linear boundary"
   ]
  },
  {
   "cell_type": "code",
   "execution_count": 10,
   "metadata": {},
   "outputs": [
    {
     "data": {
      "text/plain": [
       "LogisticRegression(C=1.0, class_weight=None, dual=False, fit_intercept=True,\n",
       "                   intercept_scaling=1, l1_ratio=None, max_iter=100,\n",
       "                   multi_class='warn', n_jobs=None, penalty='l2',\n",
       "                   random_state=None, solver='lbfgs', tol=0.0001, verbose=0,\n",
       "                   warm_start=False)"
      ]
     },
     "execution_count": 10,
     "metadata": {},
     "output_type": "execute_result"
    }
   ],
   "source": [
    "logistic = LogisticRegression(solver='lbfgs')\n",
    "logistic.fit(x_train, y_train)"
   ]
  },
  {
   "cell_type": "markdown",
   "metadata": {},
   "source": [
    "### Logistic regression with polynomial boundary\n",
    "Try different polynomial degrees."
   ]
  },
  {
   "cell_type": "code",
   "execution_count": 11,
   "metadata": {},
   "outputs": [
    {
     "data": {
      "text/plain": [
       "LogisticRegression(C=1.0, class_weight=None, dual=False, fit_intercept=True,\n",
       "                   intercept_scaling=1, l1_ratio=None, max_iter=1000,\n",
       "                   multi_class='warn', n_jobs=None, penalty='l2',\n",
       "                   random_state=None, solver='lbfgs', tol=0.0001, verbose=0,\n",
       "                   warm_start=False)"
      ]
     },
     "execution_count": 11,
     "metadata": {},
     "output_type": "execute_result"
    }
   ],
   "source": [
    "#transform your training and testing data into polynomial features\n",
    "degree_of_polynomial = 2\n",
    "polynomial_features = PolynomialFeatures(degree_of_polynomial)\n",
    "polynomial_features.fit(x_train)\n",
    "x_train_poly = polynomial_features.transform(x_train)\n",
    "x_test_poly = polynomial_features.transform(x_test)\n",
    "\n",
    "#fit a logistic regression on top of your polynomial features\n",
    "logistic_poly = LogisticRegression(solver='lbfgs', max_iter=1000)\n",
    "logistic_poly.fit(x_train_poly, y_train)"
   ]
  },
  {
   "cell_type": "markdown",
   "metadata": {},
   "source": [
    "### Decision tree\n",
    "Try different depths."
   ]
  },
  {
   "cell_type": "code",
   "execution_count": 12,
   "metadata": {},
   "outputs": [
    {
     "data": {
      "text/plain": [
       "DecisionTreeClassifier(class_weight=None, criterion='gini', max_depth=10,\n",
       "                       max_features=None, max_leaf_nodes=None,\n",
       "                       min_impurity_decrease=0.0, min_impurity_split=None,\n",
       "                       min_samples_leaf=1, min_samples_split=2,\n",
       "                       min_weight_fraction_leaf=0.0, presort=False,\n",
       "                       random_state=None, splitter='best')"
      ]
     },
     "execution_count": 12,
     "metadata": {},
     "output_type": "execute_result"
    }
   ],
   "source": [
    "#fit a decision tree\n",
    "tree = DecisionTree(max_depth=10)\n",
    "tree.fit(x_train, y_train)"
   ]
  },
  {
   "cell_type": "markdown",
   "metadata": {},
   "source": [
    "### Random Forest\n",
    "Try different number of trees and different max_depth of the trees."
   ]
  },
  {
   "cell_type": "code",
   "execution_count": 13,
   "metadata": {},
   "outputs": [
    {
     "data": {
      "text/plain": [
       "RandomForestClassifier(bootstrap=True, class_weight=None, criterion='gini',\n",
       "                       max_depth=None, max_features='auto', max_leaf_nodes=None,\n",
       "                       min_impurity_decrease=0.0, min_impurity_split=None,\n",
       "                       min_samples_leaf=1, min_samples_split=2,\n",
       "                       min_weight_fraction_leaf=0.0, n_estimators=1000,\n",
       "                       n_jobs=None, oob_score=False, random_state=None,\n",
       "                       verbose=0, warm_start=False)"
      ]
     },
     "execution_count": 13,
     "metadata": {},
     "output_type": "execute_result"
    }
   ],
   "source": [
    "#fit a random forest\n",
    "forest = RandomForest(n_estimators=1000)\n",
    "forest.fit(x_train, y_train)"
   ]
  },
  {
   "cell_type": "markdown",
   "metadata": {},
   "source": [
    "### kNN Classifier\n",
    "\n",
    "Try a couple of values of `k`."
   ]
  },
  {
   "cell_type": "code",
   "execution_count": 14,
   "metadata": {},
   "outputs": [
    {
     "data": {
      "text/plain": [
       "KNeighborsClassifier(algorithm='auto', leaf_size=30, metric='minkowski',\n",
       "                     metric_params=None, n_jobs=None, n_neighbors=5, p=2,\n",
       "                     weights='uniform')"
      ]
     },
     "execution_count": 14,
     "metadata": {},
     "output_type": "execute_result"
    }
   ],
   "source": [
    "#fit a kNN classifier\n",
    "knn = KNN(n_neighbors=5)\n",
    "knn.fit(x_train, y_train)"
   ]
  },
  {
   "cell_type": "markdown",
   "metadata": {},
   "source": [
    "### Compare your models\n",
    "Which model is the best according to your metric? Is this the same model that you picked from last time?\n",
    "\n",
    "\n",
    "## Exercise 3: Address the class imbalance issue in the data\n",
    "\n",
    "Class imbalance can be addressed by down-sampling and up-sampling. In this exercise you will use the `class_weight` parameter in `sklearn` classifiers to adjust importance assigned to each class. \n",
    "\n",
    "For example, if you want to assign twice as much importance to the 0-class when training you do the following:\n",
    "``` python\n",
    "LogisticRegression(solver='lbfgs', class_weight={0:2, 1:1})\n",
    "```\n",
    "\n",
    "For our cancer dataset, and any classifier of your choice, use the `class_weight` parameter to assign different importance to the two classes. Which settings of the `class_weight` parameter is more appropriate for our task and our data?"
   ]
  },
  {
   "cell_type": "code",
   "execution_count": null,
   "metadata": {},
   "outputs": [],
   "source": []
  },
  {
   "cell_type": "markdown",
   "metadata": {},
   "source": [
    "---\n",
    "\n",
    "# Application #2: Loan Approval Recommendation\n",
    "\n",
    "When you apply for a home loan loan at a bank, your application is examined by a loan officer. When deciding whether to approve your loan application, the loan officer considers how likely you are to default on your loan. Typically, home loans have low default rates.\n",
    "\n",
    "## Choose an appropriate metric to evaluate a model that  recommends loan approval\n",
    "Imagine you are building a classifier to predict whether or not a person will default on a loan; based on your model, the bank will decide whether or not to approve their loan application. Which metric should you choose to evaluate your model? Why?\n",
    "\n",
    "---\n",
    "\n",
    "# Application #3: Bail Recommendation\n",
    "\n",
    "In the American criminal justic system, when a person is accused of a crime and arrested, their guilt is determined by a trial. The trial can be scheduled anytime between 3 weeks to 6 months after the arrest. \n",
    "\n",
    "Typically, a judge determines if the accused can return home while waiting for their trial or if they must sit in jail while they wait for their trial. If the judge decides to release the accused, we say that they are given **bail**.\n",
    "\n",
    "When a judge decides whether or not to grant bail to a person, he/she considers if the person is likely to commit a crime if they are released. In reality, it is relatively rare that a person commits a crime while waiting for trial.\n",
    "\n",
    "## Choose an appropriate metric to evaluate a model that  recommends bail\n",
    "Imagine you are building a classifier to predict whether or not a person will commit a crime when released; based on your model the judge will choose whether or not to give the accused bail. Which metric should you choose to evaluate your model? Why?\n",
    "\n",
    "\n",
    "# Application #4: Match Metrics to Real-life Tasks\n",
    "\n",
    "For each of the following metrics, describe a scenario (or a general type of scenario) where that metric is an appropriate way to evaluate a classifier:\n",
    "\n",
    "1. True positive rate\n",
    "2. True negative rate\n",
    "3. Precision\n",
    "4. Recall\n",
    "5. Positive predictive value\n",
    "6. Negative predictive value"
   ]
  },
  {
   "cell_type": "code",
   "execution_count": null,
   "metadata": {},
   "outputs": [],
   "source": []
  }
 ],
 "metadata": {
  "kernelspec": {
   "display_name": "Python 3",
   "language": "python",
   "name": "python3"
  },
  "language_info": {
   "codemirror_mode": {
    "name": "ipython",
    "version": 3
   },
   "file_extension": ".py",
   "mimetype": "text/x-python",
   "name": "python",
   "nbconvert_exporter": "python",
   "pygments_lexer": "ipython3",
   "version": "3.6.8"
  }
 },
 "nbformat": 4,
 "nbformat_minor": 2
}
