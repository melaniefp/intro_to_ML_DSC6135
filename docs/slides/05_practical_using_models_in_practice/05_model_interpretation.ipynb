{
 "cells": [
  {
   "cell_type": "markdown",
   "metadata": {},
   "source": [
    "# Model Interpretation\n",
    "## DSC-6135: Introduction to Machine Learning and Computational Statistics"
   ]
  },
  {
   "cell_type": "markdown",
   "metadata": {},
   "source": [
    "### Load necessary libraries"
   ]
  },
  {
   "cell_type": "code",
   "execution_count": 1,
   "metadata": {},
   "outputs": [],
   "source": [
    "# as usual, let us load all the necessary libraries\n",
    "import numpy as np  # numerical computation with arrays\n",
    "import pandas as pd # library to manipulate datasets using dataframes\n",
    "import scipy as sp  # statistical library\n",
    "\n",
    "# below sklearn libraries for different models\n",
    "from sklearn.tree import DecisionTreeClassifier as DecisionTree\n",
    "from sklearn.ensemble import RandomForestClassifier as RandomForest\n",
    "from sklearn.preprocessing import PolynomialFeatures\n",
    "from sklearn.linear_model import LogisticRegression\n",
    "from sklearn.linear_model import LinearRegression\n",
    "# plot \n",
    "import matplotlib\n",
    "import matplotlib.pyplot as plt\n",
    "%matplotlib inline"
   ]
  },
  {
   "cell_type": "markdown",
   "metadata": {},
   "source": [
    "### Helper functions"
   ]
  },
  {
   "cell_type": "code",
   "execution_count": 53,
   "metadata": {},
   "outputs": [],
   "source": [
    "# function to generate random splits\n",
    "def split_data(X, y ,seed=29):\n",
    "    ''' Function to split  randomly your dataset in train and test '''\n",
    "    N,D = X.shape\n",
    "    test_size=0.4\n",
    "    np.random.seed(seed)\n",
    "    permuted_idxs = np.random.permutation(N)\n",
    "    N_train = int(np.floor(N*(1-test_size)))\n",
    "    train_idxs = permuted_idxs[:N_train]\n",
    "    test_idxs = permuted_idxs[N_train:]\n",
    "    X_train = X[train_idxs,:]\n",
    "    X_test = X[test_idxs,:]\n",
    "    y_train = y[train_idxs]\n",
    "    y_test = y[test_idxs]\n",
    "    return X_train, X_test, y_train, y_test\n",
    "\n",
    "# function to print feature importances (size of coefficients)\n",
    "def print_sorted_feat_importance(weights, colnames):\n",
    "    feature_weights = pd.Series(weights, index=colnames)\n",
    "    feature_weights_sorted = feature_weights.apply(np.abs).sort_values(ascending=False)\n",
    "\n",
    "    for name in feature_weights_sorted.index:\n",
    "         print('{:23s}: {:.4f}'.format(name, feature_weights[name]))\n",
    "            \n",
    "# function to plot confidence intervals\n",
    "def plot_confidence_intervals(bootstrap_weights, ax):\n",
    "    rows = bootstrap_weights.shape[0]\n",
    "    columns = bootstrap_weights.shape[1]\n",
    "    bootstrap_weights = bootstrap_weights.reshape((rows, columns))\n",
    "    ax.set_title(\"Variation in weight across variations in train set\")\n",
    "    ax.boxplot(bootstrap_weights)\n",
    "    ax.set_ylabel('Weight values')\n",
    "    ax.set_xlabel('Features')\n",
    "    ax.set_xticklabels(X_colnames, rotation=90)\n",
    "    return ax\n",
    "\n",
    "# function to plot predictive intervals\n",
    "def plot_predictive_intervals(bootstrap_predictions, labels, ax):\n",
    "    rows = bootstrap_predictions.shape[0]\n",
    "    columns = bootstrap_predictions.shape[1]\n",
    "    bootstrap_predictions = bootstrap_predictions.reshape((rows, columns))\n",
    "    ax.set_title(\"Variation in prediction across variations in train set\")\n",
    "    ax.boxplot(bootstrap_predictions)\n",
    "    ax.set_ylabel('Predicted Sales')\n",
    "    ax.set_xlabel('Companies')\n",
    "    ax.set_xticklabels(labels, rotation=90)\n",
    "    return ax"
   ]
  },
  {
   "cell_type": "markdown",
   "metadata": {},
   "source": [
    "---\n",
    "\n",
    "## Application: Predicting total sales from marketing strategy\n",
    "\n",
    "In this exercise, you are asked to build a machine learning model to predict the total sales of a company based on their marketing strategy (how much money they invest in advertisement and in which venues they choose to advertise) as well as a few additional features of the company.\n",
    "\n",
    "The goal is not only to predict how much sales a company should expect, the goal is to also make a recommendation to the company on how they should adjust their marketing strategy or internal operations (e.g. you might recommend, based on your model, that the company invests more in social media marketing)."
   ]
  },
  {
   "cell_type": "markdown",
   "metadata": {},
   "source": [
    "#### Load the dataset and examine it"
   ]
  },
  {
   "cell_type": "code",
   "execution_count": 10,
   "metadata": {},
   "outputs": [],
   "source": [
    "# load the data using pandas\n",
    "X_df = pd.read_csv('X.csv')\n",
    "y_df = pd.read_csv('y.csv')"
   ]
  },
  {
   "cell_type": "code",
   "execution_count": 11,
   "metadata": {},
   "outputs": [
    {
     "data": {
      "text/html": [
       "<div>\n",
       "<style scoped>\n",
       "    .dataframe tbody tr th:only-of-type {\n",
       "        vertical-align: middle;\n",
       "    }\n",
       "\n",
       "    .dataframe tbody tr th {\n",
       "        vertical-align: top;\n",
       "    }\n",
       "\n",
       "    .dataframe thead th {\n",
       "        text-align: right;\n",
       "    }\n",
       "</style>\n",
       "<table border=\"1\" class=\"dataframe\">\n",
       "  <thead>\n",
       "    <tr style=\"text-align: right;\">\n",
       "      <th></th>\n",
       "      <th>electricity (mega W)</th>\n",
       "      <th>water (10^3 m3)</th>\n",
       "      <th>bus_stops ($)</th>\n",
       "      <th>sport_events ($)</th>\n",
       "      <th>social_media ($)</th>\n",
       "      <th>TV ($)</th>\n",
       "      <th>radio ($)</th>\n",
       "      <th>newspaper ($)</th>\n",
       "    </tr>\n",
       "  </thead>\n",
       "  <tbody>\n",
       "    <tr>\n",
       "      <th>0</th>\n",
       "      <td>2.375463</td>\n",
       "      <td>2.042122</td>\n",
       "      <td>25.455210</td>\n",
       "      <td>47.984935</td>\n",
       "      <td>15.775558</td>\n",
       "      <td>230.1</td>\n",
       "      <td>37.8</td>\n",
       "      <td>69.2</td>\n",
       "    </tr>\n",
       "    <tr>\n",
       "      <th>1</th>\n",
       "      <td>2.087293</td>\n",
       "      <td>1.237373</td>\n",
       "      <td>5.730926</td>\n",
       "      <td>13.183083</td>\n",
       "      <td>23.851138</td>\n",
       "      <td>44.5</td>\n",
       "      <td>39.3</td>\n",
       "      <td>45.1</td>\n",
       "    </tr>\n",
       "    <tr>\n",
       "      <th>2</th>\n",
       "      <td>2.333545</td>\n",
       "      <td>0.558662</td>\n",
       "      <td>7.421910</td>\n",
       "      <td>6.081495</td>\n",
       "      <td>42.850472</td>\n",
       "      <td>17.2</td>\n",
       "      <td>45.9</td>\n",
       "      <td>69.3</td>\n",
       "    </tr>\n",
       "    <tr>\n",
       "      <th>3</th>\n",
       "      <td>1.219449</td>\n",
       "      <td>0.380298</td>\n",
       "      <td>9.577026</td>\n",
       "      <td>20.418795</td>\n",
       "      <td>29.425470</td>\n",
       "      <td>151.5</td>\n",
       "      <td>41.3</td>\n",
       "      <td>58.5</td>\n",
       "    </tr>\n",
       "    <tr>\n",
       "      <th>4</th>\n",
       "      <td>1.943312</td>\n",
       "      <td>2.126781</td>\n",
       "      <td>8.087480</td>\n",
       "      <td>16.300197</td>\n",
       "      <td>34.711596</td>\n",
       "      <td>180.8</td>\n",
       "      <td>10.8</td>\n",
       "      <td>58.4</td>\n",
       "    </tr>\n",
       "  </tbody>\n",
       "</table>\n",
       "</div>"
      ],
      "text/plain": [
       "   electricity (mega W)  water (10^3 m3)  bus_stops ($)  sport_events ($)  \\\n",
       "0              2.375463         2.042122      25.455210         47.984935   \n",
       "1              2.087293         1.237373       5.730926         13.183083   \n",
       "2              2.333545         0.558662       7.421910          6.081495   \n",
       "3              1.219449         0.380298       9.577026         20.418795   \n",
       "4              1.943312         2.126781       8.087480         16.300197   \n",
       "\n",
       "   social_media ($)  TV ($)  radio ($)  newspaper ($)  \n",
       "0         15.775558   230.1       37.8           69.2  \n",
       "1         23.851138    44.5       39.3           45.1  \n",
       "2         42.850472    17.2       45.9           69.3  \n",
       "3         29.425470   151.5       41.3           58.5  \n",
       "4         34.711596   180.8       10.8           58.4  "
      ]
     },
     "execution_count": 11,
     "metadata": {},
     "output_type": "execute_result"
    }
   ],
   "source": [
    "# print the first rows of the marketing strategies data\n",
    "X_df.head()"
   ]
  },
  {
   "cell_type": "code",
   "execution_count": 12,
   "metadata": {},
   "outputs": [
    {
     "data": {
      "text/html": [
       "<div>\n",
       "<style scoped>\n",
       "    .dataframe tbody tr th:only-of-type {\n",
       "        vertical-align: middle;\n",
       "    }\n",
       "\n",
       "    .dataframe tbody tr th {\n",
       "        vertical-align: top;\n",
       "    }\n",
       "\n",
       "    .dataframe thead th {\n",
       "        text-align: right;\n",
       "    }\n",
       "</style>\n",
       "<table border=\"1\" class=\"dataframe\">\n",
       "  <thead>\n",
       "    <tr style=\"text-align: right;\">\n",
       "      <th></th>\n",
       "      <th>sales (10^3 units)</th>\n",
       "    </tr>\n",
       "  </thead>\n",
       "  <tbody>\n",
       "    <tr>\n",
       "      <th>0</th>\n",
       "      <td>22.1</td>\n",
       "    </tr>\n",
       "    <tr>\n",
       "      <th>1</th>\n",
       "      <td>10.4</td>\n",
       "    </tr>\n",
       "    <tr>\n",
       "      <th>2</th>\n",
       "      <td>9.3</td>\n",
       "    </tr>\n",
       "    <tr>\n",
       "      <th>3</th>\n",
       "      <td>18.5</td>\n",
       "    </tr>\n",
       "    <tr>\n",
       "      <th>4</th>\n",
       "      <td>12.9</td>\n",
       "    </tr>\n",
       "  </tbody>\n",
       "</table>\n",
       "</div>"
      ],
      "text/plain": [
       "   sales (10^3 units)\n",
       "0                22.1\n",
       "1                10.4\n",
       "2                 9.3\n",
       "3                18.5\n",
       "4                12.9"
      ]
     },
     "execution_count": 12,
     "metadata": {},
     "output_type": "execute_result"
    }
   ],
   "source": [
    "# print the first rows of the outcomes (total sales)\n",
    "y_df.head()"
   ]
  },
  {
   "cell_type": "markdown",
   "metadata": {},
   "source": [
    "#### Split the data into training and testing"
   ]
  },
  {
   "cell_type": "code",
   "execution_count": 13,
   "metadata": {},
   "outputs": [],
   "source": [
    "# transform the data into numpy arrays\n",
    "X = X_df.values\n",
    "y = y_df.values\n",
    "\n",
    "# store the names of the columns\n",
    "X_colnames = X_df.columns.values\n",
    "y_colnames = y_df.columns.values"
   ]
  },
  {
   "cell_type": "code",
   "execution_count": 31,
   "metadata": {},
   "outputs": [],
   "source": [
    "# split data into train and test\n",
    "X_train, X_test, y_train, y_test = split_data(X,y)\n",
    "# name the companies in the test set\n",
    "indices = ['company %d' % d for d in range(1,X_test.shape[0]+1)]\n",
    "X_test_df = pd.DataFrame(X_test, columns=X_colnames, index=indices)"
   ]
  },
  {
   "cell_type": "markdown",
   "metadata": {},
   "source": [
    "#### Train a linear regression model to predict the total sales from the marketing strategy data"
   ]
  },
  {
   "cell_type": "code",
   "execution_count": 14,
   "metadata": {},
   "outputs": [
    {
     "data": {
      "text/plain": [
       "LinearRegression(copy_X=True, fit_intercept=True, n_jobs=None, normalize=True)"
      ]
     },
     "execution_count": 14,
     "metadata": {},
     "output_type": "execute_result"
    }
   ],
   "source": [
    "# train linear model\n",
    "linear_regressor = LinearRegression()\n",
    "linear_regressor.fit(X_train,y_train)"
   ]
  },
  {
   "cell_type": "markdown",
   "metadata": {},
   "source": [
    "#### Evaluate the model on the training and testing datasets"
   ]
  },
  {
   "cell_type": "code",
   "execution_count": 15,
   "metadata": {},
   "outputs": [
    {
     "name": "stdout",
     "output_type": "stream",
     "text": [
      "Accuracy on train set: 0.90\n",
      "Accuracy on test set: 0.88\n"
     ]
    }
   ],
   "source": [
    "# evaluate on train and test set\n",
    "score_train = linear_regressor.score(X_train,y_train)\n",
    "score_test = linear_regressor.score(X_test,y_test)\n",
    "print('Accuracy on train set: %.2f' % score_train)\n",
    "print('Accuracy on test set: %.2f' % score_test)"
   ]
  },
  {
   "cell_type": "markdown",
   "metadata": {},
   "source": [
    "This model seems quite accurate! We would now like to know which feature is the most predictive, and use that information to increase sales."
   ]
  },
  {
   "cell_type": "markdown",
   "metadata": {},
   "source": [
    "---"
   ]
  },
  {
   "cell_type": "markdown",
   "metadata": {},
   "source": [
    "## Exercise 1. Interpreting a Linear Regression Model\n",
    "\n",
    "Often, we are not just interested in obtaining a prediction from a model, we are also interested in why the model has made that prediction.\n",
    "\n",
    "For a linear regression model, $y = w_0 + w_1x_1 + w_2x_2 + \\ldots + w_Dx_D$, looking at the coefficients can help us determine which feature was an important factor in the prediction.\n",
    "\n",
    "The coefficients of `sklearn`'s linear regression model is stored in the model's `.coef_` parameter.\n",
    "\n",
    "Based on the values of the regression coefficients, which feature do you think has the most effect on the total sales? Can you hypothesize why?"
   ]
  },
  {
   "cell_type": "code",
   "execution_count": 30,
   "metadata": {},
   "outputs": [],
   "source": [
    "# # get the coefficients for the linear regression model\n",
    "# weights = linear_regressor.coef_[0]\n",
    "# # print the coefficients in descending order (by absolute value)\n",
    "# print_sorted_feat_importance(weights, X_colnames)"
   ]
  },
  {
   "cell_type": "markdown",
   "metadata": {},
   "source": [
    "## Exercise 2. Constructing Confident Intervals for Regression Coefficients\n",
    "\n",
    "Before we start making marketing recommendations based on the regression coefficients, let's determine if these coefficients are significant. That is, are the coefficients describing a rule that is particular only to our training data and cannot generalize to new data?\n",
    "\n",
    "To do this, we change the training data slightly (by bootstrapping) and see how much our regression coefficients change.\n",
    "\n",
    "Based on the following box plot of the regression coefficient for models fitted on 5 bootstrapped training data sets, which feature do you think has the most effect on the total sales? Is this answer different from your answer in Exercise 1?"
   ]
  },
  {
   "cell_type": "code",
   "execution_count": 29,
   "metadata": {},
   "outputs": [],
   "source": [
    "# ### we fit 5 regression models on 5 bootstrapped samples of our training data\n",
    "# # number of bootstrap samples to make\n",
    "# n_bootstrap = 5\n",
    "# # a list to store the weights of each regression model\n",
    "# bootstrap_weights = []\n",
    "# for n in range(n_bootstrap):\n",
    "#     # create new training data\n",
    "#     X_train, _, y_train, _ = split_data(X, y, seed=n)\n",
    "#     # train linear regressor model\n",
    "#     linear_regressor.fit(X_train,y_train)\n",
    "#     # save the regression weights\n",
    "#     bootstrap_weights.append(linear_regressor.coef_[0])\n",
    "    \n",
    "# bootstrap_weights = np.array(bootstrap_weights)\n",
    "\n",
    "# # make a box plot for the regression weights\n",
    "# fig, ax = plt.subplots(1, 1, figsize=(10, 5))\n",
    "# plot_confidence_intervals(bootstrap_weights, ax)\n",
    "# plt.show()"
   ]
  },
  {
   "cell_type": "markdown",
   "metadata": {},
   "source": [
    "## Exercise 3. Constructing the Predictive Interval of a Regression Model\n",
    "\n",
    "In test data, company 30 is **Coca-cola** and company 29 is **Inyange**.\n",
    "\n",
    "Using your linear regression model predict which company will have a higher total sales based on their marketing strategy."
   ]
  },
  {
   "cell_type": "code",
   "execution_count": 49,
   "metadata": {},
   "outputs": [],
   "source": [
    "# X_test.head()"
   ]
  },
  {
   "cell_type": "code",
   "execution_count": 56,
   "metadata": {},
   "outputs": [],
   "source": [
    "# # predict on the test data\n",
    "# y_predict = linear_regressor.predict(X_test)\n",
    "# # print the total sales of company 29 and company 30\n",
    "# print('Predicted sales for Coca-cola: %.2f (thousand units)' % y_predict[29])\n",
    "# print('Predicted sales for Inyange: %.2f (thousand units)' % y_predict[30])"
   ]
  },
  {
   "cell_type": "markdown",
   "metadata": {},
   "source": [
    "Construct the predictive interval for each predicted total sales. Based on these intervals, how confident are you in your predictions?"
   ]
  },
  {
   "cell_type": "code",
   "execution_count": 57,
   "metadata": {},
   "outputs": [],
   "source": [
    "# ### we fit 1000 regression models on 1000 bootstrapped samples of our training data\n",
    "# n_bootstrap = 1000\n",
    "# # make a list to store the predicted sales\n",
    "# bootstrap_y_pred = []\n",
    "# for n in range(n_bootstrap):\n",
    "#     # make new data\n",
    "#     X_train, _, y_train, _ = split_data(X, y, seed=n)\n",
    "#     # train linear regression model\n",
    "#     linear_regressor.fit(X_train,y_train)\n",
    "#     # predict on company 30 and 31\n",
    "#     y_predict = linear_regressor.predict(X_test[29:31])\n",
    "#     # add the prediction to the list\n",
    "#     bootstrap_y_pred.append(y_predict)\n",
    "# # convert the list into an array\n",
    "# bootstrap_y_pred = np.array(bootstrap_y_pred)\n",
    "\n",
    "# fig, ax = plt.subplots(1, 1, figsize=(10, 5))\n",
    "# plot_predictive_intervals(bootstrap_y_pred, ['Coca-cola', 'Inyange'], ax)\n",
    "# plt.show()"
   ]
  },
  {
   "cell_type": "code",
   "execution_count": null,
   "metadata": {},
   "outputs": [],
   "source": []
  }
 ],
 "metadata": {
  "kernelspec": {
   "display_name": "Python 3",
   "language": "python",
   "name": "python3"
  },
  "language_info": {
   "codemirror_mode": {
    "name": "ipython",
    "version": 3
   },
   "file_extension": ".py",
   "mimetype": "text/x-python",
   "name": "python",
   "nbconvert_exporter": "python",
   "pygments_lexer": "ipython3",
   "version": "3.6.8"
  }
 },
 "nbformat": 4,
 "nbformat_minor": 2
}
