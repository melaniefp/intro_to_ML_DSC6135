{
 "cells": [
  {
   "cell_type": "markdown",
   "metadata": {
    "slideshow": {
     "slide_type": "slide"
    }
   },
   "source": [
    "# Generalization and Model Complexity\n",
    "\n",
    "\n",
    "### Machine Learning and Computational Statistics (DSC6135)"
   ]
  },
  {
   "cell_type": "code",
   "execution_count": 1,
   "metadata": {
    "slideshow": {
     "slide_type": "skip"
    }
   },
   "outputs": [],
   "source": [
    "import numpy as np\n",
    "import matplotlib.pyplot as plt\n",
    "from sklearn.preprocessing import PolynomialFeatures\n",
    "from sklearn.linear_model import LinearRegression\n",
    "from matplotlib.pyplot import cm"
   ]
  },
  {
   "cell_type": "markdown",
   "metadata": {
    "slideshow": {
     "slide_type": "skip"
    }
   },
   "source": [
    "### latex definitions in this cell\n",
    "$\\def \\w {\\boldsymbol{w}}$\n",
    "$\\def \\x {\\boldsymbol{x}}$\n",
    "$\\def \\y {\\boldsymbol{y}}$"
   ]
  },
  {
   "cell_type": "markdown",
   "metadata": {
    "slideshow": {
     "slide_type": "subslide"
    }
   },
   "source": [
    "## Objectives\n",
    "\n",
    "**Goal**: How can we learn functions that generalize well to unseen data?\n",
    "\n",
    "* Cross-validation\n",
    "    \n",
    "* Bias-variance Decomposition\n",
    "    \n",
    "* Regularization\n",
    "\n",
    "* Ensembles\n",
    "\n",
    "* Bayesian perspective\n",
    "    \n",
    "    "
   ]
  },
  {
   "cell_type": "code",
   "execution_count": 2,
   "metadata": {
    "slideshow": {
     "slide_type": "skip"
    }
   },
   "outputs": [],
   "source": [
    "import numpy as np\n",
    "import matplotlib.pyplot as plt\n",
    "\n",
    "def generate_toy_data(n_points=20, noise_std=0.25):\n",
    "    np.random.seed(5)\n",
    "    x = np.linspace(-5,5,n_points)\n",
    "    y = 0.01 * x**3\n",
    "    y = y + noise_std*np.random.randn(n_points)\n",
    "    return x,y\n",
    "\n",
    "def plot_toy_data(x,y):\n",
    "    K = 4\n",
    "    fig, ax = plt.subplots(1,4,figsize=(16,4),sharey=True)\n",
    "    for k in range(K):\n",
    "        ax[k].set_xlabel('x')\n",
    "    ax[0].scatter(x,y)\n",
    "    ax[0].set_title('Available data')\n",
    "    ax[1].set_title(\"Poly=2\")\n",
    "    ax[2].set_title(\"Poly=4\")\n",
    "    ax[3].set_title(\"Poly=16\")\n",
    "    ax[0].set_ylabel('y')\n",
    "    return fig, ax"
   ]
  },
  {
   "cell_type": "markdown",
   "metadata": {
    "slideshow": {
     "slide_type": "slide"
    }
   },
   "source": [
    "## 0. Connecting with last lecture...\n",
    "\n",
    "* k-nearest neighbors regression\n",
    "* linear regression\n",
    "* polynomial regression"
   ]
  },
  {
   "cell_type": "code",
   "execution_count": 3,
   "metadata": {
    "slideshow": {
     "slide_type": "fragment"
    }
   },
   "outputs": [
    {
     "data": {
      "text/plain": [
       "Text(0, 0.5, 'y')"
      ]
     },
     "execution_count": 3,
     "metadata": {},
     "output_type": "execute_result"
    },
    {
     "data": {
      "image/png": "[encoded data removed]",
      "text/plain": [
       "<Figure size 432x288 with 1 Axes>"
      ]
     },
     "metadata": {
      "needs_background": "light"
     },
     "output_type": "display_data"
    }
   ],
   "source": [
    "x_obs,y_obs = generate_toy_data(n_points=20)\n",
    "plt.scatter(x_obs,y_obs)\n",
    "plt.xlabel('x')\n",
    "plt.ylabel('y')"
   ]
  },
  {
   "cell_type": "markdown",
   "metadata": {
    "slideshow": {
     "slide_type": "subslide"
    }
   },
   "source": [
    "## k-nearest neighbors from scratch"
   ]
  },
  {
   "cell_type": "code",
   "execution_count": 4,
   "metadata": {
    "slideshow": {
     "slide_type": "fragment"
    }
   },
   "outputs": [
    {
     "data": {
      "text/plain": [
       "array([-0.04629859,  0.21337701,  0.06751975])"
      ]
     },
     "execution_count": 4,
     "metadata": {},
     "output_type": "execute_result"
    }
   ],
   "source": [
    "def predict_knn_regression(x, x_observed, y_observed, k=1):\n",
    "    '''\n",
    "    Function to predict output y for input x given past data (x_observed, y_observed) in 1-dimension\n",
    "    '''\n",
    "    def compute_square_error(x_obs,x_star): return (x_obs - x_star)**2\n",
    "    N_obs = x_observed.shape[0]\n",
    "    N_to_predict = x.shape[0]\n",
    "    y = np.zeros(N_to_predict)\n",
    "    for n in range(N_to_predict):\n",
    "        distance_vector = np.array([compute_square_error(x_obs,x[n]) for x_obs in x_observed])\n",
    "        sorted_distances,idxs_neigh = [np.array(x) for x in zip( *sorted(zip(distance_vector,range(N_obs))) )]\n",
    "        y[n] = np.mean(y_observed[idxs_neigh[:k]])\n",
    "    return y\n",
    "predict_knn_regression(np.array([1,2,3]),x_obs,y_obs)"
   ]
  },
  {
   "cell_type": "code",
   "execution_count": 5,
   "metadata": {
    "slideshow": {
     "slide_type": "subslide"
    }
   },
   "outputs": [
    {
     "data": {
      "image/png": "[encoded data removed]",
      "text/plain": [
       "<Figure size 1152x288 with 4 Axes>"
      ]
     },
     "metadata": {
      "needs_background": "light"
     },
     "output_type": "display_data"
    }
   ],
   "source": [
    "## LET'S RUN K-NN REGRESSION FOR OUR TRAINING DATA WITH k=1, k=3, and k=10 neighbors\n",
    "fig,ax = plt.subplots(1,4,figsize=(16,4),sharey=True)\n",
    "ax[0].set_ylabel('y')\n",
    "for i in range(4):\n",
    "    ax[i].scatter(x_obs,y_obs)\n",
    "    ax[i].set_xlabel('x')\n",
    "x_grid = np.linspace(-5,5,100)\n",
    "k_vec = np.array([1,3,10,20])\n",
    "for ax_id, k in enumerate(k_vec):\n",
    "    y_grid = predict_knn_regression(x_grid,x_obs,y_obs,k=k)\n",
    "    ax[ax_id].plot(x_grid,y_grid,'r')\n",
    "    ax[ax_id].set_title('k = %d' % k)"
   ]
  },
  {
   "cell_type": "code",
   "execution_count": 6,
   "metadata": {
    "slideshow": {
     "slide_type": "subslide"
    }
   },
   "outputs": [
    {
     "data": {
      "text/plain": [
       "[<matplotlib.lines.Line2D at 0x7fb761a1a2e8>]"
      ]
     },
     "execution_count": 6,
     "metadata": {},
     "output_type": "execute_result"
    },
    {
     "data": {
      "image/png": "[encoded data removed]",
      "text/plain": [
       "<Figure size 432x288 with 1 Axes>"
      ]
     },
     "metadata": {
      "needs_background": "light"
     },
     "output_type": "display_data"
    }
   ],
   "source": [
    "# K-NN implementation using sklearn library\n",
    "from sklearn.neighbors import KNeighborsRegressor\n",
    "knn_regressor = KNeighborsRegressor(n_neighbors=3)\n",
    "knn_regressor.fit(x_obs[:,np.newaxis],y_obs[:,np.newaxis])\n",
    "n_points = 100\n",
    "x_grid = np.linspace(-5,5,n_points)[:,np.newaxis]\n",
    "y_grid = knn_regressor.predict(x_grid)\n",
    "\n",
    "# PLOT predicted function (x,y) by KNN regressor\n",
    "f,ax = plt.subplots()\n",
    "ax.scatter(x_obs,y_obs)\n",
    "ax.plot(x_grid,y_grid,'r')"
   ]
  },
  {
   "cell_type": "code",
   "execution_count": 7,
   "metadata": {
    "slideshow": {
     "slide_type": "subslide"
    }
   },
   "outputs": [
    {
     "data": {
      "text/plain": [
       "[<matplotlib.lines.Line2D at 0x7fb761b7f4a8>]"
      ]
     },
     "execution_count": 7,
     "metadata": {},
     "output_type": "execute_result"
    },
    {
     "data": {
      "image/png": "[encoded data removed]",
      "text/plain": [
       "<Figure size 432x288 with 1 Axes>"
      ]
     },
     "metadata": {
      "needs_background": "light"
     },
     "output_type": "display_data"
    }
   ],
   "source": [
    "# Linear Regression implementation using sklearn library\n",
    "from sklearn.linear_model import LinearRegression\n",
    "linear_regressor = LinearRegression()\n",
    "linear_regressor.fit(x_obs[:,np.newaxis],y_obs[:,np.newaxis])\n",
    "n_points = 100\n",
    "x_grid = np.linspace(-5,5,n_points)[:,np.newaxis]\n",
    "y_grid = linear_regressor.predict(x_grid)\n",
    "\n",
    "f,ax = plt.subplots()\n",
    "ax.scatter(x_obs,y_obs)\n",
    "ax.plot(x_grid,y_grid,'r')"
   ]
  },
  {
   "cell_type": "code",
   "execution_count": 8,
   "metadata": {
    "slideshow": {
     "slide_type": "subslide"
    }
   },
   "outputs": [],
   "source": [
    "# Polynomial Regression\n",
    "from sklearn.linear_model import LinearRegression\n",
    "from sklearn.preprocessing import PolynomialFeatures\n",
    "# How to use PolynomialFeatures class?\n",
    "# poly = PolynomialFeatures(2)\n",
    "# x_transform = poly.fit_transform(x)"
   ]
  },
  {
   "cell_type": "code",
   "execution_count": 9,
   "metadata": {
    "slideshow": {
     "slide_type": "fragment"
    }
   },
   "outputs": [
    {
     "data": {
      "image/png": "[encoded data removed]",
      "text/plain": [
       "<Figure size 1152x288 with 4 Axes>"
      ]
     },
     "metadata": {
      "needs_background": "light"
     },
     "output_type": "display_data"
    }
   ],
   "source": [
    "# QUESTION: Fit Polynomial regressors with degrees equal to 2, 4, and 16\n",
    "fig, ax = plot_toy_data(x_obs,y_obs)\n",
    "## WRITE"
   ]
  },
  {
   "cell_type": "code",
   "execution_count": 10,
   "metadata": {
    "slideshow": {
     "slide_type": "slide"
    }
   },
   "outputs": [
    {
     "data": {
      "image/png": "[encoded data removed]",
      "text/plain": [
       "<Figure size 1152x288 with 4 Axes>"
      ]
     },
     "metadata": {
      "needs_background": "light"
     },
     "output_type": "display_data"
    }
   ],
   "source": [
    "# SOLUTION: Fit Polynomial regressors with degrees equal to 2, 4, and 16 \n",
    "fig, ax = plot_toy_data(x_obs,y_obs)\n",
    "poly_vec = np.array([2,4,16])\n",
    "for ax_id, p in enumerate(poly_vec):\n",
    "    poly = PolynomialFeatures(p)\n",
    "    x_transform = poly.fit_transform(x_obs[:,np.newaxis])\n",
    "    linear_reg = LinearRegression()\n",
    "    linear_reg.fit(x_transform,y_obs)\n",
    "    y_predict = linear_reg.predict(x_transform)\n",
    "    ax[ax_id+1].scatter(x_obs,y_obs)\n",
    "    ax[ax_id+1].plot(x_obs,y_predict,'r')"
   ]
  },
  {
   "cell_type": "markdown",
   "metadata": {
    "slideshow": {
     "slide_type": "slide"
    }
   },
   "source": [
    "## 1. Introduction to Generalization\n",
    "\n",
    "* How to choose model parameters (example: number of neighbors, or polynomial degree?)\n",
    "\n",
    "* Which function is better?\n",
    "\n",
    "* In the following, we will learn:\n",
    "    * how to *identify* (evaluate) the model that generalizes the best\n",
    "    * how to optimize models to generalize well"
   ]
  },
  {
   "cell_type": "markdown",
   "metadata": {
    "slideshow": {
     "slide_type": "subslide"
    }
   },
   "source": [
    "### What can we do to get models that generalize well?\n",
    "\n",
    "* Validation: rely on train/test set\n",
    "\n",
    "* Regularization\n",
    "\n",
    "* Ensembles"
   ]
  },
  {
   "cell_type": "markdown",
   "metadata": {
    "slideshow": {
     "slide_type": "slide"
    }
   },
   "source": [
    "## 2. Validation and Test\n",
    "\n",
    "<table><tr><td><img src=\"figs/02_model_selection/ms5.png\" width=\"80%\"></td><td><img src=\"figs/02_model_selection/ms6.png\" width=\"80%\"></td></tr></table>\n",
    "\n",
    "* red points: training set\n",
    "* green points: test set (where we evaluate)\n",
    "\n",
    "We want to *generalize well*, not just predict the training set well."
   ]
  },
  {
   "cell_type": "markdown",
   "metadata": {
    "slideshow": {
     "slide_type": "subslide"
    }
   },
   "source": [
    "## We need to split into train and test\n",
    "\n",
    "<img src=\"figs/02_model_selection/split.png\" width=\"55%\">"
   ]
  },
  {
   "cell_type": "markdown",
   "metadata": {
    "slideshow": {
     "slide_type": "subslide"
    }
   },
   "source": [
    "## How to fit best model?\n",
    "\n",
    "<img src=\"figs/02_model_selection/ms_how1.png\" width=\"80%\">\n",
    "\n",
    "(slide M. Hughes)"
   ]
  },
  {
   "cell_type": "markdown",
   "metadata": {
    "slideshow": {
     "slide_type": "subslide"
    }
   },
   "source": [
    "## How to fit best model?\n",
    "\n",
    "<img src=\"figs/02_model_selection/ms_how2.png\" width=\"80%\">\n",
    "\n",
    "(slide M. Hughes)"
   ]
  },
  {
   "cell_type": "markdown",
   "metadata": {
    "slideshow": {
     "slide_type": "subslide"
    }
   },
   "source": [
    "## How to fit best model?\n",
    "\n",
    "<img src=\"figs/02_model_selection/ms_how3.png\" width=\"80%\">\n",
    "\n",
    "(slide M. Hughes)"
   ]
  },
  {
   "cell_type": "markdown",
   "metadata": {
    "slideshow": {
     "slide_type": "subslide"
    }
   },
   "source": [
    "### Cross-validation\n",
    "\n",
    "* Split dataset in A, B, C, D chunks\n",
    "\n",
    "* Hold out D, train on A, B, C\n",
    "\n",
    "* Hold out C, train on A, B, D, etc..."
   ]
  },
  {
   "cell_type": "markdown",
   "metadata": {
    "slideshow": {
     "slide_type": "subslide"
    }
   },
   "source": [
    "### Exercise: Interpreting the likelihood function\n",
    "\n",
    "Say we're considering two linear models for the dataset $\\{(1, 2), (2, 3)\\}$ with iid noise $\\epsilon_n \\sim \\mathcal{N}(0, 1)$.\n",
    "\n",
    "1. Model 1: $y = x + 2$\n",
    "2. Model 2: $y = 2 - 2x$\n",
    "\n",
    "Which model, assuming one is correct, is more appropriate for the data?"
   ]
  },
  {
   "cell_type": "code",
   "execution_count": 10,
   "metadata": {
    "slideshow": {
     "slide_type": "subslide"
    }
   },
   "outputs": [
    {
     "name": "stdout",
     "output_type": "stream",
     "text": [
      "likelihood of data under model 1: 0.0585498\n",
      "likelihood of data under model 2: 1e-07\n"
     ]
    }
   ],
   "source": [
    "# SOLUTION\n",
    "from scipy.stats import norm\n",
    "#data\n",
    "x_train = np.array([1, 2])\n",
    "y_train = np.array([2, 3])\n",
    "\n",
    "#likelihood functions\n",
    "lkhd = lambda m, b: norm(m * x_train[0] + b, 1).pdf(y_train[0]) * norm(m * x_train[1] + b, 1).pdf(y_train[1])\n",
    "print('likelihood of data under model 1:', np.round(lkhd(1, 2), 7))\n",
    "print('likelihood of data under model 2:', np.round(lkhd(-2, 2), 7))"
   ]
  },
  {
   "cell_type": "markdown",
   "metadata": {
    "slideshow": {
     "slide_type": "subslide"
    }
   },
   "source": [
    "## Model Complexity vs Error\n",
    "\n",
    "<img src=\"figs/02_model_selection/complexity.png\" width=\"80%\">"
   ]
  },
  {
   "cell_type": "code",
   "execution_count": 11,
   "metadata": {
    "slideshow": {
     "slide_type": "skip"
    }
   },
   "outputs": [],
   "source": [
    "def plot_bias_variance():\n",
    "    Xs = np.arange(0, 10, 0.1)\n",
    "    plt.plot(Xs, 0.0002 * np.exp(Xs), label='bias')\n",
    "    plt.plot(Xs, 1 / np.sqrt(Xs), label='variance')\n",
    "    #plt.plot(Xs, 0.5 * np.sqrt(Xs), label='variance')\n",
    "    plt.ylabel('Error')\n",
    "    plt.xlabel(r'$\\lambda$')\n",
    "    plt.tick_params(\n",
    "        axis='x',          # changes apply to the x-axis\n",
    "        which='both',      # both major and minor ticks are affected\n",
    "        bottom=False,      # ticks along the bottom edge are off\n",
    "        top=False,         # ticks along the top edge are off\n",
    "        labelbottom=False)\n",
    "    plt.tick_params(\n",
    "        axis='y',          # changes apply to the x-axis\n",
    "        which='both',      # both major and minor ticks are affected\n",
    "        left=False,      # ticks along the bottom edge are off\n",
    "        right=False,         # ticks along the top edge are off\n",
    "        labelleft=False)\n",
    "    plt.legend()"
   ]
  },
  {
   "cell_type": "markdown",
   "metadata": {
    "slideshow": {
     "slide_type": "subslide"
    }
   },
   "source": [
    "## 3. Bias-variance Trade-off"
   ]
  },
  {
   "cell_type": "markdown",
   "metadata": {
    "slideshow": {
     "slide_type": "fragment"
    }
   },
   "source": [
    "**Definitions**:\n",
    "\n",
    "* $\\theta$: model parameters\n",
    "\n",
    "$$\\textrm{bias}(\\theta) = \\mathbb{E}[\\theta] - \\theta$$\n",
    "\n",
    "$$\\textrm{variance}(\\theta) = \\mathbb{E}[(\\theta - \\mathbb{E}[\\theta])^2]$$\n",
    "\n",
    "* Let us refer to model complexity as $\\lambda$"
   ]
  },
  {
   "cell_type": "code",
   "execution_count": 12,
   "metadata": {
    "slideshow": {
     "slide_type": "subslide"
    }
   },
   "outputs": [],
   "source": [
    "## Derivation of Bias-Variance Decomposition"
   ]
  },
  {
   "cell_type": "code",
   "execution_count": 13,
   "metadata": {
    "slideshow": {
     "slide_type": "fragment"
    }
   },
   "outputs": [
    {
     "name": "stderr",
     "output_type": "stream",
     "text": [
      "/opt/anaconda3/lib/python3.6/site-packages/ipykernel_launcher.py:4: RuntimeWarning: divide by zero encountered in true_divide\n",
      "  after removing the cwd from sys.path.\n"
     ]
    },
    {
     "data": {
      "image/png": "[encoded data removed]",
      "text/plain": [
       "<Figure size 432x288 with 1 Axes>"
      ]
     },
     "metadata": {},
     "output_type": "display_data"
    }
   ],
   "source": [
    "plot_bias_variance()"
   ]
  },
  {
   "cell_type": "markdown",
   "metadata": {
    "slideshow": {
     "slide_type": "notes"
    }
   },
   "source": [
    "## Some intuition...\n",
    "\n",
    "$$\\textrm{bias}(\\theta) = \\mathbb{E}[\\theta] - \\theta$$\n",
    "\n",
    "$$\\textrm{variance}(\\theta) = \\mathbb{E}[(\\theta - \\mathbb{E}[\\theta])^2]$$\n",
    "\n",
    "<img src=\"figs/02_model_selection/bias_variance.png\" width=\"70%\">"
   ]
  },
  {
   "cell_type": "markdown",
   "metadata": {
    "slideshow": {
     "slide_type": "slide"
    }
   },
   "source": [
    "## Derivation of Bias-Variance Decomposition\n",
    "\n",
    "Making it more formal... let us write the mean square error as:\n",
    "\n",
    "$$\\mathbb{E}[(y- \\hat{y})^2]$$\n",
    "\n",
    "(see blackboard)"
   ]
  },
  {
   "cell_type": "markdown",
   "metadata": {
    "slideshow": {
     "slide_type": "notes"
    }
   },
   "source": [
    "Let's begin by asserting that we have a model $f(\\cdot)$ that makes a prediction of our target $y$ given input data point $\\textbf{x}$. We wish to break down the squared error of $f$ into terms involving bias and variance. \\\\\n",
    "\n",
    "Start with the expected squared error (MSE):\n",
    "    \\begin{align*}\n",
    "        \\textit{MSE} = \\mathrm{E}[(y - f(\\textbf{x}))^{2}]\n",
    "    \\end{align*}\n",
    "    \n",
    "    \n",
    "For reasons that will become clear in a few steps, add and subtract our target mean $\\bar{y}$, which is the true conditional mean given by $\\bar{y} = \\mathrm{E}_{y|\\textbf{x}}[y]$, inside of the squared term:\n",
    "    \\begin{align*}\n",
    "        \\textit{MSE} = \\mathrm{E}[(y - \\bar{y} + \\bar{y} - f(\\textbf{x}))^{2}]\n",
    "    \\end{align*}\n",
    "    Group together the first two terms and the last two terms:\n",
    "    \\begin{align*}\n",
    "        \\textit{MSE} = \\mathrm{E}[((y - \\bar{y}) + (\\bar{y} - f(\\textbf{x})))^{2}]\n",
    "    \\end{align*}\n",
    "    Expanding this expression and using linearity of expectation:\n",
    "    \\begin{equation} \\label{bias-variance-intermediate-1}\n",
    "        \\textit{MSE} = \\mathrm{E}[(y - \\bar{y})^{2}] + \\mathrm{E}[(\\bar{y} - f(\\textbf{x}))^{2}] + 2\\mathrm{E}[(y - \\bar{y})(\\bar{y} - f(\\textbf{x}))]\n",
    "    \\end{equation}\n",
    "    Let's examine the last term, $2\\mathrm{E}[(y - \\bar{y})(\\bar{y} - f(\\textbf{x}))]$. Notice that $(\\bar{y} - f(\\textbf{x}))$ does not depend on the conditional distribution $y|\\textbf{x}$ at all. Thus, we are able to move one of those expecations in, which makes this term:\n",
    "    \\begin{align*}\n",
    "        2\\mathrm{E}[(y - \\bar{y})(\\bar{y} - f(\\textbf{x}))] = 2\\mathrm{E}_{D}[\\mathrm{E}_{y|\\textbf{x}}[(y - \\bar{y})](\\bar{y} - f(\\textbf{x}))]\n",
    "    \\end{align*}\n",
    "    And note that:\n",
    "    \\begin{align*}\n",
    "        \\mathrm{E}_{y|\\textbf{x}}[(y - \\bar{y})] = 0\n",
    "    \\end{align*}\n",
    "    Which eliminates this last term entirely:\n",
    "    \\begin{align*}\n",
    "        2\\mathrm{E}[(y - \\bar{y})(\\bar{y} - f(\\textbf{x}))] = 2\\mathrm{E}_{D}[0 \\cdot (\\bar{y} - f(\\textbf{x}))] = 0\n",
    "    \\end{align*}\n",
    "    \n",
    "We can now write the MSE as:\n",
    "    \\begin{equation} \\label{bias-variance-intermediate-2}\n",
    "        \\textit{MSE} = \\mathrm{E}[(y - \\bar{y})^{2}] + \\mathrm{E}[(\\bar{y} - f(\\textbf{x}))^{2}]\n",
    "    \\end{equation}\n",
    "    \n",
    "We now have two terms contributing to our squared error. We will ignore the first term $\\mathrm{E}[(y - \\bar{y})^{2}]$, as this is unidentifiable *noise* in our data set. In other words, our data will randomly deviate from the mean in ways we cannot predict. On the other hand, we can work with the second term $\\mathrm{E}[(\\bar{y} - f(\\textbf{x}))^{2}]$ as it involves our model function $f(\\cdot)$"
   ]
  },
  {
   "cell_type": "markdown",
   "metadata": {
    "slideshow": {
     "slide_type": "notes"
    }
   },
   "source": [
    "As before, for reasons that will become clear in a few steps, let's add and subtract our prediction mean $\\bar{f}(\\cdot) = \\mathrm{E}_{D}[f(\\textbf{x})]$, which is the expectation of our model function taken with respect to our random data set.\n",
    "    \\begin{align*}\n",
    "        \\mathrm{E}[(\\bar{y} - f(\\textbf{x}))^{2}] = \\mathrm{E}[(\\bar{y} - \\bar{f}(\\textbf{x}) + \\bar{f}(\\textbf{x}) - f(\\textbf{x}))^{2}]\n",
    "    \\end{align*}\n",
    "    Expanding this squared term, we have:\n",
    "    \\begin{align*}\n",
    "        \\mathrm{E}[(\\bar{y} - f(\\textbf{x}))^{2}] = (\\bar{y} - \\bar{f}(\\textbf{x}))^{2} + \\mathrm{E}[(\\bar{f}(\\textbf{x}) - f(\\textbf{x}))^{2}] + 2\\mathrm{E}[(\\bar{y} - \\bar{f}(\\textbf{x}))(\\bar{f}(\\textbf{x}) - f(\\textbf{x}))]\n",
    "    \\end{align*}\n",
    "\n",
    "As before, the third term here is 0:\n",
    "    \\begin{align*}\n",
    "        2\\mathrm{E}[(\\bar{y} - \\bar{f}(\\textbf{x}))(\\bar{f}(\\textbf{x}) - f(\\textbf{x}))] = 2(\\bar{y} - \\bar{f}(\\textbf{x}))\\mathrm{E}[(\\bar{f}(\\textbf{x}) - f(\\textbf{x}))] = 2(\\bar{y} - \\bar{f}(\\textbf{x}))(0) = 0\n",
    "    \\end{align*}\n",
    "    Leaving us with these two terms:\n",
    "    \\begin{align*}\n",
    "        \\mathrm{E}[(\\bar{y} - f(\\textbf{x}))^{2}] = (\\bar{y} - \\bar{f}(\\textbf{x}))^{2} + \\mathrm{E}[(\\bar{f}(\\textbf{x}) - f(\\textbf{x}))^{2}]\n",
    "    \\end{align*}\n",
    "\n",
    "Notice the form of these two terms. The first one, $(\\bar{y} - \\bar{f}(\\textbf{x}))^{2}$, is the squared \\textit{bias} of our model, since it is the square of the average difference between our prediction and the true target value. The second one, $\\mathrm{E}[(\\bar{f}(\\textbf{x}) - f(\\textbf{x}))^{2}]$, is the \\textit{variance} of our model, since it is the expected squared difference between our model and its average value. Thus:\n",
    "    \\begin{align*}\n",
    "        \\mathrm{E}[(y - f(\\textbf{x}))^{2}] = \\textit{bias}(f(\\textbf{x}))^{2} + \\textit{variance}(f(\\textbf{x}))\n",
    "    \\end{align*}\n",
    "\n",
    "Thus, our total squared error, plugging in to the MSE Equation can be written as:\n",
    "    \\begin{align*}\n",
    "        \\boxed{\\textit{MSE} = \\textit{noise}(\\textbf{x}) + \\textit{bias}(f(\\textbf{x}))^{2} + \\textit{variance}(f(\\textbf{x}))}\n",
    "    \\end{align*}"
   ]
  },
  {
   "cell_type": "markdown",
   "metadata": {
    "slideshow": {
     "slide_type": "subslide"
    }
   },
   "source": [
    "## Derivation of Bias-Variance Decomposition\n",
    "\n",
    "Putting it all together...\n",
    "\n",
    "\\begin{align*}\n",
    "\\textit{MSE} = \\textit{noise}(\\textbf{x}) + \\textit{bias}(f(\\textbf{x}))^{2} + \\textit{variance}(f(\\textbf{x}))\n",
    " \\end{align*}"
   ]
  },
  {
   "cell_type": "markdown",
   "metadata": {
    "slideshow": {
     "slide_type": "notes"
    }
   },
   "source": [
    "**Bias-Variance Tradeoﬀ**: When constructing machine learning models, we have a choice somewhere on a spectrum between two extremes: ﬁtting exactly to our training data or not varying in response to our training data at all. The ﬁrst extreme, ﬁtting all of our training data, is a situation of high variance, because our output changes heavily in reponse to our input data. At the other extreme, a solution that doesn’t change in response to our training data at all is a situation of high bias. This means our model heavily favors a speciﬁc form regardless of the training data, so our target outputs don’t ﬂuctuate between distinct training sets."
   ]
  },
  {
   "cell_type": "markdown",
   "metadata": {
    "slideshow": {
     "slide_type": "subslide"
    }
   },
   "source": [
    "# What can we do to get models that generalize well?\n",
    "\n",
    "* Validation: rely on train/test set\n",
    "\n",
    "* Regularization\n",
    "\n",
    "* Ensembles"
   ]
  },
  {
   "cell_type": "markdown",
   "metadata": {
    "slideshow": {
     "slide_type": "slide"
    }
   },
   "source": [
    "## 4. Regularization\n",
    "\n",
    "**Idea**: assign a penalty on model complexity by constraining norm of weights \n",
    "\n",
    "* Ridge regression (L2-norm penalization)\n",
    "\n",
    "    $$min \\mathcal{L}(\\mathbf{w}) + \\lambda || \\mathbf{w} ||_2^2$$\n",
    "    \n",
    "* Lasso regression (L1-norm penalization)\n",
    "\n",
    "    $$min \\mathcal{L}(\\mathbf{w}) + \\lambda || \\mathbf{w} ||_1$$\n",
    "\n",
    "$\\lambda$ can be chosen via validation/cross-validation."
   ]
  },
  {
   "cell_type": "markdown",
   "metadata": {
    "slideshow": {
     "slide_type": "slide"
    }
   },
   "source": [
    "## 5. Ensembles\n",
    "\n",
    "**Idea**: use an *ensemble* of models and take the average (regression).\n",
    "\n",
    "* *Bagging* or bootstrap aggregation: train an ensemble of models by re-sampling data with replacement. \n",
    "\n",
    "\n",
    "* *Boosting*: train models to give more weights to incorrect examples; weight votes based on accuracy."
   ]
  },
  {
   "cell_type": "markdown",
   "metadata": {
    "slideshow": {
     "slide_type": "skip"
    }
   },
   "source": [
    "### Exercise: Bagging\n",
    "In the following we will implement bagging:\n",
    "1. we will train a large ensemble of complex models on bootstrap samples of training data\n",
    "2. we will average the predictions of the models in our ensemble to reduce the variance in the prediction."
   ]
  },
  {
   "cell_type": "code",
   "execution_count": 27,
   "metadata": {
    "slideshow": {
     "slide_type": "skip"
    }
   },
   "outputs": [],
   "source": [
    "def make_data(number_of_train_points, number_of_test_points, f):\n",
    "    '''\n",
    "    This function randomly samples training data in [-5, 5], given a function f.\n",
    "    \n",
    "    number_of_train_points: number of training points to sample\n",
    "    f: the underlying function relating x and y\n",
    "    '''\n",
    "    #randomly sample training inputs from [-5, 5]\n",
    "    x_train = np.random.uniform(-5, 5, number_of_train_points)\n",
    "    x_test = np.random.uniform(-5, 5, number_of_test_points)\n",
    "    #sort the randomly sampled train and test inputs\n",
    "    x_train = np.sort(x_train)\n",
    "    x_test = np.sort(x_test)\n",
    "    #generate noisy training labels for the sampled training inputs\n",
    "    y_train = f(x_train) + np.random.normal(0, 0.5, number_of_train_points)\n",
    "    y_test = f(x_test) + np.random.normal(0, 0.5, number_of_test_points)\n",
    "    return x_train, y_train, x_test, y_test\n",
    "\n",
    "def fit_polynomial_regression(x_train, y_train, x_test, polynomial_features, regression):\n",
    "    '''\n",
    "    This function implements polynomial regression, given training and testing data as well as\n",
    "    a polynomial feature model and a linear regression model.\n",
    "    \n",
    "    x_train: training inputs\n",
    "    y_train: training labels\n",
    "    x_test: tests inputs\n",
    "    polynomial_features: model for transforming inputs into polynomial features\n",
    "    regression: linear regression model\n",
    "    '''\n",
    "    #tranform training inputs into polynomial features\n",
    "    poly_x_train = polynomial_features.fit_transform(x_train.reshape((-1, 1)))\n",
    "    #tranform testing inputs into polynomial features\n",
    "    poly_x_test = polynomial_features.transform(x_test.reshape((-1, 1)))\n",
    "    #fit linear regression on top of polynomial features\n",
    "    regression.fit(poly_x_train, y_train)\n",
    "    #predict labels for test input\n",
    "    y_predict = regression.predict(poly_x_test)\n",
    "    return y_predict"
   ]
  },
  {
   "cell_type": "markdown",
   "metadata": {
    "slideshow": {
     "slide_type": "slide"
    }
   },
   "source": [
    "Let's generate some very noisy data using a simple cubic function $f(x) = 0.01 x^3$."
   ]
  },
  {
   "cell_type": "code",
   "execution_count": 21,
   "metadata": {
    "slideshow": {
     "slide_type": "skip"
    }
   },
   "outputs": [
    {
     "data": {
      "image/png": "[encoded data removed]",
      "text/plain": [
       "<Figure size 720x360 with 1 Axes>"
      ]
     },
     "metadata": {
      "needs_background": "light"
     },
     "output_type": "display_data"
    }
   ],
   "source": [
    "#number of training inputs\n",
    "number_of_train_points = 50\n",
    "#number of testing inputs\n",
    "number_of_test_points = 100\n",
    "#function generating our data\n",
    "f = lambda x: 0.01 * x**3\n",
    "#make training data\n",
    "x_train, y_train, x_test, y_test = make_data(number_of_train_points, number_of_test_points, f)\n",
    "#make test input that is evenly spaced over [-5, 5]\n",
    "x_test = np.linspace(-5, 5, number_of_test_points)\n",
    "\n",
    "#visualize training data\n",
    "fig, ax = plt.subplots(1, 1, figsize=(10, 5))\n",
    "#plot training data\n",
    "ax.scatter(x_train, y_train, color='black', label='training data')\n",
    "#plot the underlying function generating the data\n",
    "ax.plot(x_train, f(x_train), color='red', label='function generating data')\n",
    "ax.set_title('Training Data')\n",
    "ax.set_ylim([-2, 2])\n",
    "plt.legend(loc='best')\n",
    "plt.show()"
   ]
  },
  {
   "cell_type": "markdown",
   "metadata": {
    "slideshow": {
     "slide_type": "skip"
    }
   },
   "source": [
    "Now, let's fit a degree 20 polynomial to our training data. Since this model is so flexible, it can use its extra degree of freedom to capture the noise in the data. As a result, when the training data changes slightly (when we resample the training data), the fitted polynomial will look drastically different. I.e. this model has high variance."
   ]
  },
  {
   "cell_type": "code",
   "execution_count": 22,
   "metadata": {
    "slideshow": {
     "slide_type": "skip"
    }
   },
   "outputs": [
    {
     "data": {
      "image/png": "[encoded data removed]",
      "text/plain": [
       "<Figure size 720x360 with 1 Axes>"
      ]
     },
     "metadata": {
      "needs_background": "light"
     },
     "output_type": "display_data"
    }
   ],
   "source": [
    "#instantiate a polynomial feature model for a degree 20 polynomial\n",
    "polynomial_features = PolynomialFeatures(20)\n",
    "#instantiate a linear regression model\n",
    "regression = LinearRegression()\n",
    "\n",
    "fig, ax = plt.subplots(1, 1, figsize=(10, 5))\n",
    "colors = ['blue', 'red']\n",
    "\n",
    "for i in range(2):\n",
    "    #resample training and testing data\n",
    "    x_train, y_train, x_test, y_test = make_data(number_of_train_points, number_of_test_points, f)\n",
    "    #fit our polynomial model on the resampled data\n",
    "    y_predict = fit_polynomial_regression(x_train, y_train, x_test, polynomial_features, regression)\n",
    "    #plot the resampled training data\n",
    "    ax.scatter(x_train, y_train, color=colors[i], label='training data')\n",
    "    #plot the fitted polynomial model\n",
    "    ax.plot(x_test, y_predict, color=colors[i], alpha=0.5, label='fitted model')\n",
    "    \n",
    "ax.set_title('Fitting a high degree polynomial on slightly different data')\n",
    "ax.set_ylim([-2, 2])\n",
    "plt.legend(loc='best')\n",
    "plt.show()"
   ]
  },
  {
   "cell_type": "markdown",
   "metadata": {
    "slideshow": {
     "slide_type": "skip"
    }
   },
   "source": [
    "Now, let's repeat this $N$ times: that is, resample the training data $N$ times and train a degree polynomial on each resampled training data set (this is our \"ensemble\" of models). To make predictions on the test set, we average the predictions of all the models in our ensemble."
   ]
  },
  {
   "cell_type": "code",
   "execution_count": null,
   "metadata": {
    "slideshow": {
     "slide_type": "skip"
    }
   },
   "outputs": [],
   "source": [
    "fig, ax = plt.subplots(1, 1, figsize=(10, 5))\n",
    "#plot a set of training data\n",
    "ax.scatter(x_train, y_train, color='black', label='training data')\n",
    "\n",
    "###\n",
    "# FILL THIS IN\n",
    "# train N number of degree polynomial models on N resampled training data set\n",
    "# plot the predictions of each model you train on the test inputs\n",
    "# average their predctions and plot the average\n",
    "###\n",
    "\n",
    "ax.set_title('Fitting an ensemble of high degree polynomials')\n",
    "ax.set_ylim([-2, 2])\n",
    "plt.legend(loc='best')\n",
    "plt.show()"
   ]
  },
  {
   "cell_type": "markdown",
   "metadata": {
    "slideshow": {
     "slide_type": "skip"
    }
   },
   "source": [
    "What do you notice about each of the models in your ensemble? What do you notice about their average?\n",
    "\n",
    "In the `make_data` function, we resampled new training inputs from the interval $[-5, 5]$. When we do not have access to new data (e.g. collecting new data is prohibitively expensive), we need to create \"new data\" from our existing data. To do this, we bootstrap, that is, we sample different subsets from our existing data.\n",
    "\n",
    "In the following, adapt the `make_data` function to bootstrap sample from an existing set of training inputs, `x_train`, and create your ensemble using these bootstrap samples."
   ]
  },
  {
   "cell_type": "markdown",
   "metadata": {
    "slideshow": {
     "slide_type": "skip"
    }
   },
   "source": [
    "def make_data(number_of_train_points, number_of_test_points, x, y):\n",
    "    '''\n",
    "    This function randomly samples training data from existing data x and y.\n",
    "    \n",
    "    number_of_train_points: number of training points to sample\n",
    "    number_of_test_points: number of testing points to sample\n",
    "    x: array of existing inputs\n",
    "    y: array of existing labels \n",
    "    f: the underlying function relating x and y\n",
    "    '''\n",
    "    #randomly sample training data from x and y\n",
    "    ###\n",
    "    # FILL THIS IN\n",
    "    ###\n",
    "    return x_train, y_train\n",
    "\n",
    "x = np.random.uniform(-5, 5, number_of_train_points)\n",
    "y = f(x) + np.random.normal(0, 0.5, number_of_train_points)"
   ]
  },
  {
   "cell_type": "markdown",
   "metadata": {
    "slideshow": {
     "slide_type": "skip"
    }
   },
   "source": [
    "What is the difference between building your ensemble from training data resampled from $[-5, 5]$ and training data bootstraped samples from an existing data set $x, y$? Is this what you expect?"
   ]
  },
  {
   "cell_type": "markdown",
   "metadata": {
    "slideshow": {
     "slide_type": "slide"
    }
   },
   "source": [
    "# Bayesian Inference\n",
    "\n",
    "(blackboard)"
   ]
  },
  {
   "cell_type": "markdown",
   "metadata": {
    "slideshow": {
     "slide_type": "subslide"
    }
   },
   "source": [
    "## Exploring the posterior of the parameters"
   ]
  },
  {
   "cell_type": "code",
   "execution_count": null,
   "metadata": {
    "slideshow": {
     "slide_type": "skip"
    }
   },
   "outputs": [],
   "source": [
    "#sample training input\n",
    "x_train = np.random.uniform(-5, 5, number_of_train_points)\n",
    "#compute noisy label\n",
    "y_train = f(x_train) + np.random.normal(0, 0.5, number_of_train_points)\n",
    "#tranform training inputs into polynomial features\n",
    "poly_x_train = polynomial_features.fit_transform(x_train.reshape((-1, 1)))\n",
    "#tranform testing inputs into polynomial features\n",
    "poly_x_test = polynomial_features.transform(x_test.reshape((-1, 1)))\n",
    "    \n",
    "#dimension of the weight vector is the number of polynomial features plus the bias\n",
    "number_of_weights = 20 + 1\n",
    "\n",
    "#defining a normal prior on weights\n",
    "sigma = 0.5\n",
    "prior_mean = np.zeros(number_of_weights)\n",
    "prior_variance = sigma * np.eye(number_of_weights)\n",
    "\n",
    "#the posterior over weights is a normal distribution\n",
    "#posterior variance\n",
    "posterior_variance = np.linalg.inv(1. / sigma * np.eye(number_of_weights) + poly_x_train.T.dot(poly_x_train)) \n",
    "#posterior mean\n",
    "posterior_mean = posterior_variance.dot(poly_x_train.T.dot(y_train.reshape((-1, 1))) * 1. / sigma)"
   ]
  },
  {
   "cell_type": "markdown",
   "metadata": {
    "slideshow": {
     "slide_type": "skip"
    }
   },
   "source": [
    "### Visualizing the posterior\n",
    "\n",
    "What is the point of computing the posterior distribution $p(w| x, y)$ over weights rather than a point estimate of the 'best weight vector' for the data? Since we have a distribution for $w$, we can sample some weight vectors, each sample represents a different model for the data. In the following, visualize the functions from the posterior distribution."
   ]
  },
  {
   "cell_type": "code",
   "execution_count": null,
   "metadata": {},
   "outputs": [],
   "source": [
    "fig, ax = plt.subplots(1, 1, figsize=(10, 5))\n",
    "#plot the training data\n",
    "ax.scatter(x_train, y_train, color='black')\n",
    "#number of samples from the posterior\n",
    "number_of_samples = 100\n",
    "\n",
    "###\n",
    "# FILL THIS IN\n",
    "# sample 100 w's from the posterior, visualize each w as a function over the test inputs\n",
    "###\n",
    "\n",
    "ax.set_title('Visualizing functions from the posterior')\n",
    "ax.set_ylim([-2, 2])\n",
    "plt.show()"
   ]
  },
  {
   "cell_type": "markdown",
   "metadata": {
    "slideshow": {
     "slide_type": "skip"
    }
   },
   "source": [
    "What do you notice about the numerical issues involving computing the posterior variance analytically? What can we do to address these issues?\n",
    "\n",
    "Change the prior for $w$ (vary the value for `sigma`), how does your choice of prior effect the posterior over $w$? Can you explain this effect?\n",
    "\n",
    "Change the number of training data that you sample, how does the number of training data points effect the posterior over $w$? Can you explain this effect?\n",
    "\n",
    "\n",
    "### Posterior Predictive\n",
    "For each test input $x$, each $w$ sampled from the posterior will make a different prediction of the output $y$, thus, the posterior distribution of $w$ induces a distribution over predictions for test input $x$, this is the posterior predictive $p(y|x)$.\n",
    "\n",
    "In the following, use samples from the posterior over $w$ to generate the posterior predictive distribution for a given input (say $x=2.5$). Visualize the posterior predictive distribution."
   ]
  },
  {
   "cell_type": "code",
   "execution_count": null,
   "metadata": {},
   "outputs": [],
   "source": [
    "fig, ax = plt.subplots(1, 1, figsize=(10, 5))\n",
    "#number of samples from the posterior\n",
    "number_of_samples = 500\n",
    "#our test input\n",
    "x_test = np.array([2.5])\n",
    "#our test input transformed into polynomial features\n",
    "poly_x_test = polynomial_features.fit_transform(x_test.reshape((-1, 1)))\n",
    "\n",
    "###\n",
    "# FILL THIS IN\n",
    "# sample 500 w's from the posterior, use them to simulate the posterior predictive p(y|x) for x=2.5\n",
    "# visualize the posterior predictive as a histogram\n",
    "###\n",
    "\n",
    "ax.set_title('Visualizing the posterior predictive')\n",
    "plt.show()"
   ]
  },
  {
   "cell_type": "markdown",
   "metadata": {
    "slideshow": {
     "slide_type": "skip"
    }
   },
   "source": [
    "Based on the posterior predictive distribution, what can you say about the predicted label for the input?\n",
    "\n",
    "Can you list the pros and cons of computing point estimates for the model parameters and computing posterior distributions over parameters?"
   ]
  },
  {
   "cell_type": "markdown",
   "metadata": {
    "slideshow": {
     "slide_type": "notes"
    }
   },
   "source": [
    "## Glossary\n",
    "\n",
    "**Bias-Variance Tradeoﬀ**: When constructing machine learning models, we have a choice somewhere on a spectrum between two extremes: ﬁtting exactly to our training data or not varying in response to our training data at all. The ﬁrst extreme, ﬁtting all of our training data, is a situation of high variance, because our output changes heavily in reponse to our input data. At the other extreme, a solution that doesn’t change in response to our training data at all is a situation of high bias. This means our model heavily favors a speciﬁc form regardless of the training data, so our target outputs don’t ﬂuctuate between distinct training sets.\n",
    "\n",
    "**Cross-Validation**: A subsampling procedure used over a data set to tune hyperparameters and avoid over-ﬁtting. Some portion of a data set (10-20% is common) is set aside, and training is performed on the remaining, larger portion of data. When training is complete, the smaller portion of data left out of training is used for testing. The larger portion of data is sometimes referred to as the training set, and the smaller portion is sometimes referred to as the validation set.\n",
    "\n",
    "**Overﬁtting**: A phenomenon where we construct a convoluted model that is able to predict every point in our data set perfectly but which doesn’t generalize well to new data points.\n",
    " \n",
    "**Underﬁtting**: A phenomenon where we construct a model that doesn’t re- spond to variation in our data.\n",
    "  \n",
    "**Generalization**: Generalization is the ability of a model to perform well on new data points outside of the training set.\n",
    " \n",
    "**Regularization**: Applying penalties to parameters of a model.\n"
   ]
  }
 ],
 "metadata": {
  "celltoolbar": "Slideshow",
  "kernelspec": {
   "display_name": "Python 3",
   "language": "python",
   "name": "python3"
  },
  "language_info": {
   "codemirror_mode": {
    "name": "ipython",
    "version": 3
   },
   "file_extension": ".py",
   "mimetype": "text/x-python",
   "name": "python",
   "nbconvert_exporter": "python",
   "pygments_lexer": "ipython3",
   "version": "3.6.8"
  }
 },
 "nbformat": 4,
 "nbformat_minor": 2
}
