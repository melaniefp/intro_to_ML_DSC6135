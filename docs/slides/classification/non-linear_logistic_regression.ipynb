{
 "cells": [
  {
   "cell_type": "code",
   "execution_count": 1,
   "metadata": {},
   "outputs": [],
   "source": [
    "# importing libraries\n",
    "%matplotlib inline\n",
    "\n",
    "import numpy as np # package for math operations\n",
    "import pandas as pd\n",
    "import matplotlib.pyplot as plt # package for plotting\n",
    "from IPython.display import Image\n",
    "from sklearn import preprocessing, model_selection, linear_model"
   ]
  },
  {
   "cell_type": "code",
   "execution_count": 2,
   "metadata": {},
   "outputs": [],
   "source": [
    "# setting up variables for later computation\n",
    "rand_state = 2\n",
    "test_size = 0.3\n",
    "\n",
    "# set random seed\n",
    "np.random.seed(rand_state)"
   ]
  },
  {
   "cell_type": "markdown",
   "metadata": {},
   "source": [
    "Create function to generate toy data as a circle:"
   ]
  },
  {
   "cell_type": "code",
   "execution_count": 3,
   "metadata": {},
   "outputs": [],
   "source": [
    "# function to generate some toy data for classification\n",
    "def generate_toy_data(test_size, rand_state):\n",
    "    data = np.random.multivariate_normal([0, 0], np.eye(2) * 5, size=200)\n",
    "    data = np.hstack((data, np.zeros((200, 1))))\n",
    "    data[data[:, 0]**2 + data[:, 1]**2 < 3**2, 2] = np.random.choice([0, 1], \n",
    "                                                                     len(data[data[:, 0]**2 + data[:, 1]**2 < 3**2]), \n",
    "                                                                     p=[0.2, 0.8])\n",
    "    X = data[:, :-1]\n",
    "    y = data[:, -1]\n",
    "    \n",
    "    # train test split\n",
    "    return model_selection.train_test_split(X, y, test_size=test_size, random_state=rand_state)"
   ]
  },
  {
   "cell_type": "markdown",
   "metadata": {},
   "source": [
    "This creates a function to draw the decision boundary. To be completely honest, I just copied it and did not pay more attention to it."
   ]
  },
  {
   "cell_type": "code",
   "execution_count": 9,
   "metadata": {},
   "outputs": [],
   "source": [
    "#--------  plot_decision_boundary\n",
    "# A function that visualizes the data and the decision boundaries\n",
    "# Input: \n",
    "#      x (predictors)\n",
    "#      y (labels)\n",
    "#      model (classifier)\n",
    "#      poly_flag (fits quadratic model if true, otherwise linear)\n",
    "#      title (title for plot)\n",
    "#      ax (a set of axes to plot on)\n",
    "# Returns: \n",
    "#      ax (axes with data and decision boundaries)\n",
    "\n",
    "def plot_decision_boundary(x, y, model, title, ax, bounds=(0, 1), poly_flag=False):\n",
    "    # Plot data\n",
    "    ax.scatter(x[y == 1, 0], x[y == 1, 1], c='blue')\n",
    "    ax.scatter(x[y == 0, 0], x[y == 0, 1], c='red', alpha=0.3)\n",
    "    \n",
    "    # Create mesh\n",
    "    interval = np.arange(bounds[0], bounds[1], 0.01)\n",
    "    n = np.size(interval)\n",
    "    x1, x2 = np.meshgrid(interval, interval)\n",
    "    x1 = x1.reshape(-1, 1)\n",
    "    x2 = x2.reshape(-1, 1)\n",
    "    xx = np.concatenate((x1, x2), axis=1)\n",
    "\n",
    "    # Predict on mesh points\n",
    "    if(poly_flag):\n",
    "        quad_features = preprocessing.PolynomialFeatures(degree=2)\n",
    "        xx = quad_features.fit_transform(xx)\n",
    "        \n",
    "        \n",
    "    yy = model.predict(xx)    \n",
    "    yy = yy.reshape((n, n))\n",
    "\n",
    "    # Plot decision surface\n",
    "    x1 = x1.reshape(n, n)\n",
    "    x2 = x2.reshape(n, n)\n",
    "    ax.contourf(x1, x2, yy, alpha=0.1, cmap='Blues')\n",
    "    \n",
    "    # Label axes, set title\n",
    "    ax.set_title(title)\n",
    "    ax.set_xlabel('Feature 1')\n",
    "    ax.set_ylabel('Feature 2')\n",
    "    \n",
    "    return ax"
   ]
  },
  {
   "cell_type": "markdown",
   "metadata": {},
   "source": [
    "Generate the data and plot it."
   ]
  },
  {
   "cell_type": "code",
   "execution_count": 10,
   "metadata": {},
   "outputs": [
    {
     "data": {
      "image/png": "[encoded data removed]",
      "text/plain": [
       "<Figure size 360x360 with 1 Axes>"
      ]
     },
     "metadata": {
      "needs_background": "light"
     },
     "output_type": "display_data"
    }
   ],
   "source": [
    "# generate more complicated toy data\n",
    "X_train, X_test, y_train, y_test = generate_toy_data(test_size, rand_state)\n",
    "\n",
    "# plot data and decision boundary of logistic regression\n",
    "fig, ax = plt.subplots(1, 1, figsize=(5, 5))\n",
    "# plot class 1\n",
    "ax.scatter(X_train[y_train == 1, 0], X_train[y_train == 1, 1], c='blue', label='Class 1')\n",
    "# plot class 0\n",
    "ax.scatter(X_train[y_train == 0, 0], X_train[y_train == 0, 1], c='red', label='Class 0', alpha=0.3)\n",
    "# label axes\n",
    "ax.set_xlabel('Feature 1')\n",
    "ax.set_ylabel('Feature 2')\n",
    "# label title\n",
    "ax.set_title('Training Toy Data Set for Binary Classification')\n",
    "# add legend\n",
    "ax.legend()\n",
    "# add x, y limits\n",
    "ax.set_xlim([-4, 4])\n",
    "ax.set_ylim([-4, 4])\n",
    "\n",
    "plt.tight_layout()\n",
    "plt.show()"
   ]
  },
  {
   "cell_type": "markdown",
   "metadata": {},
   "source": [
    "---"
   ]
  },
  {
   "cell_type": "markdown",
   "metadata": {},
   "source": [
    "A simple non-linear boundary is a quadratic decision boundary. It is defined by the equation\n",
    "$$\n",
    "\\mathbf{w}^\\top \\mathbf{x}_{\\text{poly}} = w_0 + w_{11}x_1 + w_{12}x^2_1 + \\ldots + w_{D1}x_D + w_{D2} x^2_D = 0\n",
    "$$\n",
    "where $\\mathbf{x}_{\\text{poly}} = [1, x_1, x^2_1, \\ldots, x_D, x^2_D]$.\n",
    "\n",
    "What the above is saying is that a quadratic equation in $\\mathbf{x}$ is **secretly a linear equation** in the transformed vector $\\mathbf{x}_{\\text{poly}}$.\n",
    "\n",
    "Computing p-powers of the features:\n",
    "$$\n",
    "\\begin{aligned}\n",
    "\\mathbb{R}^D &\\to \\mathbb{R}^{D\\cdot p}\\\\\n",
    "[x_1, \\ldots, x_D] &\\rightarrow [x_1, x^2_1\\ldots, x^p_1, \\ldots, x_D, x^2_D\\ldots, x^p_D]\n",
    "\\end{aligned}\n",
    "$$"
   ]
  },
  {
   "cell_type": "markdown",
   "metadata": {},
   "source": [
    "---"
   ]
  },
  {
   "cell_type": "markdown",
   "metadata": {},
   "source": [
    "Let's solve this problem!!\n",
    "\n",
    "0. The first step is to generate the data, but we have already done so! You already have `X_train`, `X_test`, `y_train`, `y_test` defined above.\n",
    "\n",
    "1. The second step is to preprocess the features, and in particular, polynomial features! Sound familiar? Yes, we have already done this for polynomial regression.\n",
    "\n",
    "If you don't remember how to generate polynomial features, you should use `preprocessing.PolynomialFeatures(degree=2)`. \n",
    "\n",
    "The previous call creates a preprocessor object. We need to fit and transform the features, so you should use `fit_transform()` method on the training features, `X_train` and `fit()` on the `X_test` features. Review polynomial linear regression from previous days if you need to refresh, or search the online documentation if needed.\n",
    "\n",
    "2. Now, create a logistic classifier and fit the transformed training features. To create the classifier, use `logreg = linear_model.LogisticRegression(C=1., solver='lbfgs)`. \n",
    "\n",
    "3. Once you have trained the logistic classifier, we can evaluate its performance and draw its decision boundary. We will give you the code for this."
   ]
  },
  {
   "cell_type": "markdown",
   "metadata": {},
   "source": [
    "### Implement steps 1 and 2 from previous list"
   ]
  },
  {
   "cell_type": "code",
   "execution_count": 11,
   "metadata": {},
   "outputs": [],
   "source": [
    "# create polynomial features\n",
    "\n"
   ]
  },
  {
   "cell_type": "code",
   "execution_count": 12,
   "metadata": {},
   "outputs": [
    {
     "data": {
      "text/plain": [
       "LogisticRegression(C=1.0, class_weight=None, dual=False, fit_intercept=True,\n",
       "          intercept_scaling=1, max_iter=100, multi_class='warn',\n",
       "          n_jobs=None, penalty='l2', random_state=None, solver='lbfgs',\n",
       "          tol=0.0001, verbose=0, warm_start=False)"
      ]
     },
     "execution_count": 12,
     "metadata": {},
     "output_type": "execute_result"
    }
   ],
   "source": [
    "# fit our logistic regression model with non-linear decision boundary\n",
    "\n"
   ]
  },
  {
   "cell_type": "markdown",
   "metadata": {},
   "source": [
    "### Run the following code to evaluate and draw a decision boundary"
   ]
  },
  {
   "cell_type": "markdown",
   "metadata": {},
   "source": [
    "We will do the evaluation for you. Just remember that `sklearn` models have a `score` method that will measure performance of the model (accuracy in this case)."
   ]
  },
  {
   "cell_type": "code",
   "execution_count": 13,
   "metadata": {},
   "outputs": [
    {
     "data": {
      "text/html": [
       "<div>\n",
       "<style scoped>\n",
       "    .dataframe tbody tr th:only-of-type {\n",
       "        vertical-align: middle;\n",
       "    }\n",
       "\n",
       "    .dataframe tbody tr th {\n",
       "        vertical-align: top;\n",
       "    }\n",
       "\n",
       "    .dataframe thead th {\n",
       "        text-align: right;\n",
       "    }\n",
       "</style>\n",
       "<table border=\"1\" class=\"dataframe\">\n",
       "  <thead>\n",
       "    <tr style=\"text-align: right;\">\n",
       "      <th></th>\n",
       "      <th>logistic regression</th>\n",
       "    </tr>\n",
       "  </thead>\n",
       "  <tbody>\n",
       "    <tr>\n",
       "      <th>train score</th>\n",
       "      <td>0.842857</td>\n",
       "    </tr>\n",
       "    <tr>\n",
       "      <th>test score</th>\n",
       "      <td>0.850000</td>\n",
       "    </tr>\n",
       "  </tbody>\n",
       "</table>\n",
       "</div>"
      ],
      "text/plain": [
       "             logistic regression\n",
       "train score             0.842857\n",
       "test score              0.850000"
      ]
     },
     "execution_count": 13,
     "metadata": {},
     "output_type": "execute_result"
    }
   ],
   "source": [
    "# evaluate model\n",
    "scores_df = pd.DataFrame(data={'logistic regression': [logreg.score(X_train_quad, y_train), logreg.score(X_test_quad, y_test)]}, \n",
    "                         index=['train score', 'test score'])\n",
    "scores_df.head()"
   ]
  },
  {
   "cell_type": "code",
   "execution_count": 14,
   "metadata": {},
   "outputs": [
    {
     "data": {
      "image/png": "[encoded data removed]",
      "text/plain": [
       "<Figure size 720x360 with 2 Axes>"
      ]
     },
     "metadata": {
      "needs_background": "light"
     },
     "output_type": "display_data"
    }
   ],
   "source": [
    "# plot data and decision boundary of logistic regression\n",
    "fig, ax = plt.subplots(1, 2, figsize=(10, 5))\n",
    "# plot class 1\n",
    "ax[0].scatter(X_train[y_train == 1, 0], X_train[y_train == 1, 1], c='blue', label='Class 1')\n",
    "# plot class 0\n",
    "ax[0].scatter(X_train[y_train == 0, 0], X_train[y_train == 0, 1], c='red', label='Class 0', alpha=0.3)\n",
    "# label axes\n",
    "ax[0].set_xlabel('Feature 1')\n",
    "ax[0].set_ylabel('Feature 2')\n",
    "# label title\n",
    "ax[0].set_title('Training Toy Data Set for Binary Classification')\n",
    "# add legend\n",
    "ax[0].legend()\n",
    "# set x, y limits\n",
    "ax[0].set_xlim([-4, 4])\n",
    "ax[0].set_ylim([-4, 4])\n",
    "\n",
    "# plot decision boundary\n",
    "ax[1] = plot_decision_boundary(X_train, y_train, logreg, \n",
    "                               'Logistic Regression (quadratic boundary)', \n",
    "                               ax[1], bounds=(-6, 7), poly_flag=True)\n",
    "# set x, y limits\n",
    "ax[1].set_xlim([-4, 4])\n",
    "ax[1].set_ylim([-4, 4])\n",
    "\n",
    "plt.tight_layout()\n",
    "plt.show()"
   ]
  },
  {
   "cell_type": "code",
   "execution_count": null,
   "metadata": {},
   "outputs": [],
   "source": []
  }
 ],
 "metadata": {
  "@webio": {
   "lastCommId": null,
   "lastKernelId": null
  },
  "kernelspec": {
   "display_name": "Python 3",
   "language": "python",
   "name": "python3"
  },
  "language_info": {
   "codemirror_mode": {
    "name": "ipython",
    "version": 3
   },
   "file_extension": ".py",
   "mimetype": "text/x-python",
   "name": "python",
   "nbconvert_exporter": "python",
   "pygments_lexer": "ipython3",
   "version": "3.6.8"
  }
 },
 "nbformat": 4,
 "nbformat_minor": 2
}
