{
 "cells": [
  {
   "cell_type": "markdown",
   "metadata": {
    "slideshow": {
     "slide_type": "slide"
    }
   },
   "source": [
    "# Classification\n",
    "\n",
    "\n",
    "### Machine Learning and Computational Statistics (DSC6135)"
   ]
  },
  {
   "cell_type": "code",
   "execution_count": 3,
   "metadata": {
    "slideshow": {
     "slide_type": "skip"
    }
   },
   "outputs": [],
   "source": [
    "%matplotlib inline\n",
    "\n",
    "import numpy as np\n",
    "import pandas as pd\n",
    "import matplotlib.pyplot as plt\n",
    "import pandas as pd\n",
    "from IPython.display import Image\n",
    "from sklearn import preprocessing, linear_model"
   ]
  },
  {
   "cell_type": "code",
   "execution_count": 4,
   "metadata": {
    "slideshow": {
     "slide_type": "skip"
    }
   },
   "outputs": [],
   "source": [
    "# setting up variables for later computation\n",
    "rand_state = 2\n",
    "test_size = 0.3\n",
    "\n",
    "# set random seed\n",
    "np.random.seed(rand_state)\n",
    "\n",
    "#--------  plot_decision_boundary\n",
    "# A function that visualizes the data and the decision boundaries\n",
    "# Input: \n",
    "#      x (predictors)\n",
    "#      y (labels)\n",
    "#      model (classifier)\n",
    "#      poly_flag (fits quadratic model if true, otherwise linear)\n",
    "#      title (title for plot)\n",
    "#      ax (a set of axes to plot on)\n",
    "# Returns: \n",
    "#      ax (axes with data and decision boundaries)\n",
    "\n",
    "def plot_decision_boundary(x, y, model, title, ax, bounds=(0, 1), poly_flag=False):\n",
    "    # Plot data\n",
    "    ax.scatter(x[y == 1, 0], x[y == 1, 1], c='blue')\n",
    "    ax.scatter(x[y == 0, 0], x[y == 0, 1], c='red', alpha=0.3)\n",
    "    \n",
    "    # Create mesh\n",
    "    interval = np.arange(bounds[0], bounds[1], 0.01)\n",
    "    n = np.size(interval)\n",
    "    x1, x2 = np.meshgrid(interval, interval)\n",
    "    x1 = x1.reshape(-1, 1)\n",
    "    x2 = x2.reshape(-1, 1)\n",
    "    xx = np.concatenate((x1, x2), axis=1)\n",
    "\n",
    "    # Predict on mesh points\n",
    "    if(poly_flag):\n",
    "        quad_features = preprocessing.PolynomialFeatures(degree=2)\n",
    "        xx = quad_features.fit_transform(xx)\n",
    "        \n",
    "        \n",
    "    yy = model.predict(xx)    \n",
    "    yy = yy.reshape((n, n))\n",
    "\n",
    "    # Plot decision surface\n",
    "    x1 = x1.reshape(n, n)\n",
    "    x2 = x2.reshape(n, n)\n",
    "    ax.contourf(x1, x2, yy, alpha=0.1, cmap='Blues')\n",
    "    \n",
    "    # Label axes, set title\n",
    "    ax.set_title(title)\n",
    "    ax.set_xlabel('Feature 1')\n",
    "    ax.set_ylabel('Feature 2')\n",
    "    \n",
    "    return ax"
   ]
  },
  {
   "cell_type": "markdown",
   "metadata": {
    "slideshow": {
     "slide_type": "skip"
    }
   },
   "source": [
    "### latex definitions in this cell\n",
    "$\\def \\w {\\boldsymbol{w}}$\n",
    "$\\def \\x {\\boldsymbol{x}}$\n",
    "$\\def \\y {\\boldsymbol{y}}$"
   ]
  },
  {
   "cell_type": "markdown",
   "metadata": {
    "slideshow": {
     "slide_type": "slide"
    }
   },
   "source": [
    "## 1. Introduction to Classification\n",
    "\n",
    "<table><tr><td><img src=\"figs/cla1.png\" width=\"80%\"></td><td><img src=\"figs/cla2.png\" width=\"85%\"></td></tr></table>"
   ]
  },
  {
   "cell_type": "markdown",
   "metadata": {
    "slideshow": {
     "slide_type": "subslide"
    }
   },
   "source": [
    "## Example: Binary Classification\n",
    "\n",
    "<img src=\"figs/cats_dogs.jpeg\" width=\"80%\">"
   ]
  },
  {
   "cell_type": "markdown",
   "metadata": {
    "slideshow": {
     "slide_type": "slide"
    }
   },
   "source": [
    "## Classification overview\n",
    "\n",
    "* Steps for classification\n",
    "    1. What is prediction?  --> hard binary vs. probabilities\n",
    "    2. What is training?  --> we need a model\n",
    "    3. How to evaluate  --> we need performance metrics\n",
    "    \n",
    "\n",
    "* Possible methods for classification\n",
    "    1. Logistic Regression\n",
    "    2. Decission Tree Regression\n",
    "    3. K-Nearest Neighbors"
   ]
  },
  {
   "cell_type": "markdown",
   "metadata": {
    "slideshow": {
     "slide_type": "slide"
    }
   },
   "source": [
    "## Binary Prediction Step\n",
    "\n",
    "<img src=\"figs/03_classification/prediction1.png\" width=\"65%\">"
   ]
  },
  {
   "cell_type": "markdown",
   "metadata": {
    "slideshow": {
     "slide_type": "fragment"
    }
   },
   "source": [
    "<img src=\"figs/03_classification/prediction2.png\" width=\"55%\">"
   ]
  },
  {
   "cell_type": "markdown",
   "metadata": {
    "slideshow": {
     "slide_type": "subslide"
    }
   },
   "source": [
    "## Probability Prediction Step\n",
    "\n",
    "<img src=\"figs/03_classification/prediction3.png\" width=\"85%\">"
   ]
  },
  {
   "cell_type": "markdown",
   "metadata": {
    "slideshow": {
     "slide_type": "subslide"
    }
   },
   "source": [
    "## Probability Prediction Step\n",
    "\n",
    "<img src=\"figs/03_classification/prediction4.png\" width=\"85%\">"
   ]
  },
  {
   "cell_type": "markdown",
   "metadata": {
    "slideshow": {
     "slide_type": "slide"
    }
   },
   "source": [
    "# Logistic Regression: Linear Decision Boundary"
   ]
  },
  {
   "cell_type": "markdown",
   "metadata": {
    "slideshow": {
     "slide_type": "slide"
    }
   },
   "source": [
    "We can try to model the **probability** of a data point being from a particular class by\n",
    "1. which side of the decision boundary it's on\n",
    "2. how far it is away from the boundary. Intuitively, the farther a data point is from the decision boundary, the more 'certain' we should be of it's classification.\n",
    "\n",
    "<img src=\"figs/decision_boundary0.png\" alt=\"\" style=\"height: 300px;\"/>"
   ]
  },
  {
   "cell_type": "markdown",
   "metadata": {
    "slideshow": {
     "slide_type": "slide"
    }
   },
   "source": [
    "# Logistic Regression: Linear Decision Boundary\n",
    "\n",
    "When the decision boundary is linear, it is defined by the equation\n",
    "$$\n",
    "\\mathbf{w}^\\top \\mathbf{x} = w_0x_0 + w_1x_1 + \\ldots + w_D x_D = 0\n",
    "$$\n",
    "where $x_0 = 1$.\n",
    "\n",
    "The vector $\\mathbf{w}$ allow us to gauge the 'distance' of a point from the decision boundary\n",
    "<img src=\"figs/decision_boundary1.png\" alt=\"\" style=\"height: 300px;\"/>"
   ]
  },
  {
   "cell_type": "markdown",
   "metadata": {
    "slideshow": {
     "slide_type": "subslide"
    }
   },
   "source": [
    "To model the probability of labeling a point a certain class, we have to convert distance, $\\mathbf{w}^\\top\\mathbf{x}$ (which is unbounded) into a number between 0 and 1, using the ***sigmoid function***:\n",
    "<img src=\"figs/sigmoid.png\" alt=\"\" style=\"height: 200px;\"/>\n",
    "\n",
    "$$\n",
    "\\sigma(z) = \\frac{1}{1+e^{-z}},\n",
    "$$"
   ]
  },
  {
   "cell_type": "markdown",
   "metadata": {
    "slideshow": {
     "slide_type": "fragment"
    }
   },
   "source": [
    "---\n",
    "\n",
    "$$\n",
    "\\text{Prob}[y = 1 | \\mathbf{x}] = \\sigma(\\mathbf{w}^\\top\\mathbf{x})\n",
    "$$\n",
    "If $\\text{Prob}[y = 1 | \\mathbf{x}] \\geq 0.5$ we label $\\mathbf{x}$ class 1, otherwise we label it class 0.\n",
    "\n",
    "\n",
    "To *fit* our model, we need to learn the parameters of $\\mathbf{w}$ that maximizes the likelihood of our training data."
   ]
  },
  {
   "cell_type": "markdown",
   "metadata": {
    "slideshow": {
     "slide_type": "subslide"
    }
   },
   "source": [
    "## How to generate data from logistic model?"
   ]
  },
  {
   "cell_type": "code",
   "execution_count": 5,
   "metadata": {
    "slideshow": {
     "slide_type": "skip"
    }
   },
   "outputs": [],
   "source": [
    "def plot_logistic(X,y):\n",
    "    plt.scatter(X[y == 1, 0], X[y == 1, 1], c='blue', label='Class 0')\n",
    "    plt.scatter(X[y == 0, 0], X[y == 0, 1], c='red', label='Class 1')\n",
    "    plt.plot(xspan, boundary)\n",
    "    plt.xlabel('Feature 1')  # label axes\n",
    "    plt.ylabel('Feature 2')\n",
    "    plt.title('Toy Data Set for Binary Classification')  # label title\n",
    "    plt.legend()\n",
    "    plt.show()"
   ]
  },
  {
   "cell_type": "code",
   "execution_count": 6,
   "metadata": {
    "slideshow": {
     "slide_type": "fragment"
    }
   },
   "outputs": [
    {
     "data": {
      "image/png": "[encoded data removed]",
      "text/plain": [
       "<Figure size 432x288 with 1 Axes>"
      ]
     },
     "metadata": {
      "needs_background": "light"
     },
     "output_type": "display_data"
    }
   ],
   "source": [
    "x1 = np.random.randn(50, 1)  # some continuous features \n",
    "x2 = np.random.randn(50, 1)\n",
    "X = np.hstack((x1, x2))\n",
    "z = 1 + 2*x1 + 3*x2  # linear combination with a bias\n",
    "pr = 1/(1+np.exp(-z))  # pass through an inv-logit function\n",
    "y = np.random.binomial(1, pr).reshape(-1) # bernoulli response variable\n",
    "xspan = np.linspace(-2.5, 2.5, 100)\n",
    "boundary = -(1+2*xspan) / 3.0\n",
    "\n",
    "plot_logistic(X,y)\n"
   ]
  },
  {
   "cell_type": "markdown",
   "metadata": {
    "slideshow": {
     "slide_type": "slide"
    }
   },
   "source": [
    "## Logistic Loss\n",
    "\n",
    "* We are given training data $X=(x_1,\\ldots,x_N)$, $y=(y_1,\\ldots,y_N)$, where $x_i\\in\\mathbb{R}^p$ and $y_i\\in\\{1,0\\}$.  \n",
    "* We assign a probability based on the logistic function to each data point for belonging to a specific class:\n",
    "\\begin{equation}\n",
    "\tp = \\text{Prob}[y=1|x] = \\frac{1}{1+e^{-\\mathbf{w}^T x}},\n",
    "\\label{eq:logistic-function}\n",
    "\\end{equation}\n",
    "and $\\text{Prob}[y=0|x] = 1-\\text{Prob}[y=1|x]$."
   ]
  },
  {
   "cell_type": "markdown",
   "metadata": {
    "slideshow": {
     "slide_type": "subslide"
    }
   },
   "source": [
    "* We employ a Bernoulli random variable with probability mass function:\n",
    "\\begin{equation}\n",
    "\tJ(X,y,\\mathbf{w}) = \\prod_{i=1}^N \\text{Prob}[y=y_i|x] = \\prod_{i=1}^N p^{y_i} (1-p)^{1-y_i}\n",
    "\\end{equation}\n",
    "* $J$ is the maximum likelihood estimator we want to minimize, given the model.\n",
    "* For optimization purposes, we maximize the log-likelihood:\n",
    "$$\n",
    "\\max_{\\mathbf{w}}  \\log \\big[\\prod_{i=1}^N p^{y_i} (1-p)^{1-y_i}\\big]\n",
    "$$"
   ]
  },
  {
   "cell_type": "markdown",
   "metadata": {
    "slideshow": {
     "slide_type": "fragment"
    }
   },
   "source": [
    "$$\n",
    "\t\\max_{\\mathbf{w}}  \\sum_{i=1}^N \\big[y_i \\log(1+e^{-(\\mathbf{w}^T x_i)})\n",
    "\t+ (1-y_i) \\log (1+ e^{(\\mathbf{w}^T x_i)}\\big]\n",
    "$$"
   ]
  },
  {
   "cell_type": "code",
   "execution_count": 7,
   "metadata": {
    "slideshow": {
     "slide_type": "skip"
    }
   },
   "outputs": [],
   "source": [
    "## Example\n",
    "\n",
    "# read training toy data set\n",
    "linear_toy_data= pd.read_csv('toy_data_train.txt', delimiter=',')\n",
    "X_train = linear_toy_data.values[:, :-1]\n",
    "y_train = linear_toy_data.values[:, -1]\n",
    "# read testing toy data set\n",
    "linear_toy_data = pd.read_csv('toy_data_test.txt', delimiter=',')\n",
    "X_test = linear_toy_data.values[:, :-1]\n",
    "y_test = linear_toy_data.values[:, -1]"
   ]
  },
  {
   "cell_type": "markdown",
   "metadata": {
    "slideshow": {
     "slide_type": "subslide"
    }
   },
   "source": [
    "## Example with sklearn:"
   ]
  },
  {
   "cell_type": "code",
   "execution_count": 8,
   "metadata": {
    "slideshow": {
     "slide_type": "fragment"
    }
   },
   "outputs": [
    {
     "data": {
      "text/plain": [
       "LogisticRegression(C=1.0, class_weight=None, dual=False, fit_intercept=True,\n",
       "          intercept_scaling=1, max_iter=100, multi_class='warn',\n",
       "          n_jobs=None, penalty='l2', random_state=None, solver='lbfgs',\n",
       "          tol=0.0001, verbose=0, warm_start=False)"
      ]
     },
     "execution_count": 8,
     "metadata": {},
     "output_type": "execute_result"
    }
   ],
   "source": [
    "# create a logistic regression model with linear boundary\n",
    "logreg = linear_model.LogisticRegression(C=1.0, solver='lbfgs')\n",
    "# fit our logistic regression model\n",
    "logreg.fit(X_train, y_train)"
   ]
  },
  {
   "cell_type": "code",
   "execution_count": 9,
   "metadata": {
    "slideshow": {
     "slide_type": "skip"
    }
   },
   "outputs": [],
   "source": [
    "def plot_fig(X_train,y_train):\n",
    "    fig, ax = plt.subplots(1, 2, figsize=(10, 5))\n",
    "    # plot class 1\n",
    "    ax[0].scatter(X_train[y_train == 1, 0], X_train[y_train == 1, 1], c='blue', label='Class 1')\n",
    "    # plot class 0\n",
    "    ax[0].scatter(X_train[y_train == 0, 0], X_train[y_train == 0, 1], c='red', label='Class 0', alpha=0.3)\n",
    "    ax[0].set_xlabel('Feature 1')  # label axes\n",
    "    ax[0].set_ylabel('Feature 2')\n",
    "    ax[0].set_title('Training Toy Data Set for Binary Classification')  # label title\n",
    "    ax[0].legend()  # add legend\n",
    "    \n",
    "    # plot decision boundary\n",
    "    ax[1] = plot_decision_boundary(X_train, y_train, logreg, 'Logistic Regression (linear boundary)', ax[1])\n",
    "    \n",
    "    plt.tight_layout()\n",
    "    plt.show()"
   ]
  },
  {
   "cell_type": "code",
   "execution_count": 10,
   "metadata": {
    "scrolled": true,
    "slideshow": {
     "slide_type": "subslide"
    }
   },
   "outputs": [
    {
     "data": {
      "image/png": "[encoded data removed]",
      "text/plain": [
       "<Figure size 720x360 with 2 Axes>"
      ]
     },
     "metadata": {
      "needs_background": "light"
     },
     "output_type": "display_data"
    }
   ],
   "source": [
    "# plot data and decision boundary of logistic regression\n",
    "plot_fig(X_train,y_train)"
   ]
  },
  {
   "cell_type": "code",
   "execution_count": 11,
   "metadata": {
    "slideshow": {
     "slide_type": "subslide"
    }
   },
   "outputs": [
    {
     "data": {
      "text/html": [
       "<div>\n",
       "<style scoped>\n",
       "    .dataframe tbody tr th:only-of-type {\n",
       "        vertical-align: middle;\n",
       "    }\n",
       "\n",
       "    .dataframe tbody tr th {\n",
       "        vertical-align: top;\n",
       "    }\n",
       "\n",
       "    .dataframe thead th {\n",
       "        text-align: right;\n",
       "    }\n",
       "</style>\n",
       "<table border=\"1\" class=\"dataframe\">\n",
       "  <thead>\n",
       "    <tr style=\"text-align: right;\">\n",
       "      <th></th>\n",
       "      <th>logistic regression</th>\n",
       "    </tr>\n",
       "  </thead>\n",
       "  <tbody>\n",
       "    <tr>\n",
       "      <th>train score</th>\n",
       "      <td>0.842105</td>\n",
       "    </tr>\n",
       "    <tr>\n",
       "      <th>test score</th>\n",
       "      <td>0.759494</td>\n",
       "    </tr>\n",
       "  </tbody>\n",
       "</table>\n",
       "</div>"
      ],
      "text/plain": [
       "             logistic regression\n",
       "train score             0.842105\n",
       "test score              0.759494"
      ]
     },
     "execution_count": 11,
     "metadata": {},
     "output_type": "execute_result"
    }
   ],
   "source": [
    "# evaluate model\n",
    "scores_df = pd.DataFrame(data={'logistic regression': [logreg.score(X_train, y_train), logreg.score(X_test, y_test)]}, \n",
    "                         index=['train score', 'test score'])\n",
    "scores_df.head()"
   ]
  },
  {
   "cell_type": "markdown",
   "metadata": {
    "slideshow": {
     "slide_type": "fragment"
    }
   },
   "source": [
    "**Questions:** Why does the model do worse on testing data rather than training data?"
   ]
  },
  {
   "cell_type": "markdown",
   "metadata": {
    "slideshow": {
     "slide_type": "slide"
    }
   },
   "source": [
    "## Optimization of the logistic loss\n",
    "\n",
    "* Summary of variables:\n",
    "    * Feature vector: $$\\mathbf{x} = [1\\: x_1\\: x_2\\:\\ldots\\:{x}_F]^T$$\n",
    "    * Weight vector: $$\\mathbf{w} = [w_0\\: w_1\\: w_2\\:\\ldots\\:{w}_F]^T$$\n",
    "    * Score: $$z_i = \\mathbf{w}^T \\mathbf{x}$$\n",
    "    * Loss (minimization): $$\\sum_{i=1}^N - [y_i \\log(1+\\exp^{-(\\mathbf{w}^T x_i)}) + (1-y_i) \\log (1+ \\exp^{(\\mathbf{w}^T x_i)}]$$"
   ]
  },
  {
   "cell_type": "markdown",
   "metadata": {
    "slideshow": {
     "slide_type": "slide"
    }
   },
   "source": [
    "* Gradient of the sigmoid:\n",
    "    $$ \n",
    "    \\frac{\\partial \\sigma(z)}{\\partial z} = \n",
    "    \\frac{\\partial}{\\partial z} (1+e^{-z})^{-1} =\n",
    "     e^{-z} (1+e^{-z})^{-2} = \\frac{1}{1+e^{-z}} \\frac{e^{-z}}{1+e^{-z}} = \\sigma(z)(1-\\sigma(z))\n",
    "    $$"
   ]
  },
  {
   "cell_type": "markdown",
   "metadata": {
    "slideshow": {
     "slide_type": "fragment"
    }
   },
   "source": [
    "* Gradient of the log sigmoids:\n",
    "<img src=\"figs/log_sigmoid_grad.png\" width=\"65%\" >"
   ]
  },
  {
   "cell_type": "markdown",
   "metadata": {
    "slideshow": {
     "slide_type": "fragment"
    }
   },
   "source": [
    "* Gradient of the logistic loss\n",
    "<img src=\"figs/grad_logistic_loss.png\" width=\"65%\" >"
   ]
  },
  {
   "cell_type": "markdown",
   "metadata": {
    "slideshow": {
     "slide_type": "fragment"
    }
   },
   "source": [
    "* Careful explanation: [stackexchange](https://stats.stackexchange.com/questions/68391/hessian-of-logistic-function)"
   ]
  },
  {
   "cell_type": "markdown",
   "metadata": {
    "slideshow": {
     "slide_type": "slide"
    }
   },
   "source": [
    "## Gradient descent\n",
    "\n",
    "* The gradient of the logistic regression does not have closed form solution!\n",
    "* We will need to use iterative methods to solve the problem approximately.\n",
    "* One such simple method, is gradient descent."
   ]
  },
  {
   "cell_type": "markdown",
   "metadata": {
    "slideshow": {
     "slide_type": "subslide"
    }
   },
   "source": [
    "## Intuition in 1D\n",
    "\n",
    "<img src=\"figs/intuition.png\" width=\"95%\"/>"
   ]
  },
  {
   "cell_type": "markdown",
   "metadata": {
    "slideshow": {
     "slide_type": "slide"
    }
   },
   "source": [
    "<img src=\"figs/logstic_gradient_descent.png\" width=\"75%\"/>"
   ]
  },
  {
   "cell_type": "markdown",
   "metadata": {
    "slideshow": {
     "slide_type": "slide"
    }
   },
   "source": [
    "## Step size tuning\n",
    "\n",
    "<img src=\"figs/step1.png\" width=\"95%\"/>"
   ]
  },
  {
   "cell_type": "markdown",
   "metadata": {
    "slideshow": {
     "slide_type": "slide"
    }
   },
   "source": [
    "## Step size tuning: too small\n",
    "\n",
    "<img src=\"figs/step2.png\" width=\"95%\"/>"
   ]
  },
  {
   "cell_type": "markdown",
   "metadata": {
    "slideshow": {
     "slide_type": "slide"
    }
   },
   "source": [
    "## Step size tuning: large\n",
    "\n",
    "<img src=\"figs/step3.png\" width=\"95%\"/>"
   ]
  },
  {
   "cell_type": "markdown",
   "metadata": {
    "slideshow": {
     "slide_type": "slide"
    }
   },
   "source": [
    "## Step size tuning: too large\n",
    "\n",
    "<img src=\"figs/step4.png\" width=\"95%\"/>"
   ]
  },
  {
   "cell_type": "markdown",
   "metadata": {
    "slideshow": {
     "slide_type": "slide"
    }
   },
   "source": [
    "## Step size tuning: way tooo large\n",
    "\n",
    "<img src=\"figs/step5.png\" width=\"95%\"/>"
   ]
  },
  {
   "cell_type": "markdown",
   "metadata": {
    "slideshow": {
     "slide_type": "slide"
    }
   },
   "source": [
    "# Logistic Regression: Non-Linear Decision Boundary\n",
    "\n",
    "Go to external notebook."
   ]
  },
  {
   "cell_type": "markdown",
   "metadata": {
    "slideshow": {
     "slide_type": "slide"
    }
   },
   "source": [
    "## Summary of Methods\n",
    "\n",
    "\n",
    "| Methods  | Function class flexibility | Knobs to tune | Interpret? |\n",
    "| --- | --- | --- | --- |\n",
    "|  Logistic Regression | Linear | L2/L1 penalty on weights | Inspect weights |\n",
    "|  Decision Tree Classifier | Axis-aligned, Piecewise constant | Max. depth, Min. leaf size, Goal criteria | Inspect tree |\n",
    "|  K Nearest Neighbors Classifier | Piecewise constant | Number of Neighbors, distance metric, how neighbors vote | Inspect neighbors |"
   ]
  }
 ],
 "metadata": {
  "@webio": {
   "lastCommId": null,
   "lastKernelId": null
  },
  "celltoolbar": "Slideshow",
  "kernelspec": {
   "display_name": "Python 3",
   "language": "python",
   "name": "python3"
  },
  "language_info": {
   "codemirror_mode": {
    "name": "ipython",
    "version": 3
   },
   "file_extension": ".py",
   "mimetype": "text/x-python",
   "name": "python",
   "nbconvert_exporter": "python",
   "pygments_lexer": "ipython3",
   "version": "3.6.8"
  }
 },
 "nbformat": 4,
 "nbformat_minor": 2
}
