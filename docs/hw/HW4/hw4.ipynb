{
  "nbformat": 4,
  "nbformat_minor": 0,
  "metadata": {
    "colab": {
      "name": "Homework_4.ipynb",
      "version": "0.3.2",
      "provenance": [],
      "collapsed_sections": []
    },
    "kernelspec": {
      "name": "python3",
      "display_name": "Python 3"
    }
  },
  "cells": [
    {
      "cell_type": "markdown",
      "metadata": {
        "id": "mXOc9peUswFK",
        "colab_type": "text"
      },
      "source": [
        "# Homework #4: Neural Network Models for Classification\n",
        "## Introduction to Machine Learning\n",
        "\n",
        "\n"
      ]
    },
    {
      "cell_type": "markdown",
      "metadata": {
        "id": "SywpQxAakbTd",
        "colab_type": "text"
      },
      "source": [
        "**STUDENT NAMES**\n",
        "\n",
        "Write your name and the name of your collaborator in this cell.\n",
        "\n",
        "STUDENT 1:\n",
        "\n",
        "STUDENT 2:\n"
      ]
    },
    {
      "cell_type": "markdown",
      "metadata": {
        "id": "FstHL-f-k0UN",
        "colab_type": "text"
      },
      "source": [
        "#### Import libraries"
      ]
    },
    {
      "cell_type": "code",
      "metadata": {
        "id": "HGT_-zHqsuCi",
        "colab_type": "code",
        "outputId": "1cc79c93-7f0a-4fd1-9016-67da6d2fe2e7",
        "colab": {
          "base_uri": "https://localhost:8080/",
          "height": 34
        }
      },
      "source": [
        "#import libraries for implementing neural networks\n",
        "import keras\n",
        "from keras.models import Sequential\n",
        "from keras.layers import Dense\n",
        "from keras.optimizers import SGD, Adam\n",
        "from keras.datasets import mnist\n",
        "#import sklearn packages\n",
        "from sklearn.datasets import make_moons, make_circles\n",
        "from sklearn.preprocessing import scale, PolynomialFeatures\n",
        "from sklearn.model_selection import train_test_split\n",
        "from sklearn.linear_model import LogisticRegression\n",
        "from sklearn.pipeline import make_pipeline\n",
        "from sklearn.metrics import confusion_matrix\n",
        "from sklearn.metrics import accuracy_score\n",
        "#import libraries of data manipulation, matrix operations and visualization\n",
        "import pandas as pd\n",
        "import numpy as np\n",
        "import matplotlib.pyplot as plt\n",
        "%matplotlib inline"
      ],
      "execution_count": 0,
      "outputs": [
        {
          "output_type": "stream",
          "text": [
            "Using TensorFlow backend.\n"
          ],
          "name": "stderr"
        }
      ]
    },
    {
      "cell_type": "markdown",
      "metadata": {
        "id": "TAdNZlL7tLj7",
        "colab_type": "text"
      },
      "source": [
        "## Application: Handwritten Digit Classification\n",
        "\n",
        "A common image processing task is to convert hand written documents into digital ones so that information can be extracted and stored in a database. However, written text can vary widely in shape and size (depending on the individual who is writting). Recognizing the letter  6 regardless, for example, across different styles of writting is very difficult.\n",
        "\n",
        "In this problem, your task is to classify images of handwritten digits. \n",
        "\n",
        "The data set is provided in the file `dataset_1.txt` and contains 28x28 gray-scale images of hand-written digits, flattened to a $784$-length vector. The last column contains the digit. For simplicity, we have only included digits 2, 4, 5. \n",
        "\n",
        "We want you to build a model that can be given the image of a hand-written digit and correctly classify this digit as 2, 4, 5.\n",
        "\n",
        "#### Loading the data"
      ]
    },
    {
      "cell_type": "code",
      "metadata": {
        "id": "MuHaRrsTtKxw",
        "colab_type": "code",
        "colab": {}
      },
      "source": [
        "# load the hand-written digits dataset\n",
        "(digits_train, labels_train), (digits_test, labels_test) = mnist.load_data()\n",
        "\n",
        "# make training data set with only 2, 4, 5\n",
        "train_mask = (labels_train == 2) | (labels_train == 4) | (labels_train == 5)\n",
        "test_mask = (labels_test == 2) | (labels_test == 4) | (labels_test == 5)\n",
        "X_train = digits_train[train_mask].reshape((-1, 784))\n",
        "Y_train = labels_train[train_mask]\n",
        "# make testing data set\n",
        "X_test = digits_test[test_mask].reshape((-1, 784))\n",
        "Y_test = labels_test[test_mask]\n",
        "\n",
        "# subsample from training data\n",
        "train_subsample = np.random.choice(len(X_train), 5000, replace=False)\n",
        "X_train = X_train[train_subsample]\n",
        "Y_train = Y_train[train_subsample]"
      ],
      "execution_count": 0,
      "outputs": []
    },
    {
      "cell_type": "markdown",
      "metadata": {
        "id": "m5wjFz6ExNwN",
        "colab_type": "text"
      },
      "source": [
        "#### Check the shapes of the datasets"
      ]
    },
    {
      "cell_type": "code",
      "metadata": {
        "id": "L5YJmB1uxR7L",
        "colab_type": "code",
        "outputId": "bf2c5973-60ae-4125-bea7-427b2588ef8e",
        "colab": {
          "base_uri": "https://localhost:8080/",
          "height": 51
        }
      },
      "source": [
        "print('X_train shape:', X_train.shape)\n",
        "print('X_test shape:', X_test.shape)"
      ],
      "execution_count": 0,
      "outputs": [
        {
          "output_type": "stream",
          "text": [
            "X_train shape: (5000, 784)\n",
            "X_test shape: (3195, 784)\n"
          ],
          "name": "stdout"
        }
      ]
    },
    {
      "cell_type": "markdown",
      "metadata": {
        "id": "75jDzhQpwGiZ",
        "colab_type": "text"
      },
      "source": [
        "#### Plot a couple of images from the training set\n",
        "\n",
        "Remember that since each 28x28 image has been flattened to a 784-long vector, we need to reshape each image back into 28x28 when we visualize the images."
      ]
    },
    {
      "cell_type": "code",
      "metadata": {
        "id": "NEM3qrsWuiYW",
        "colab_type": "code",
        "outputId": "d145defe-cc9a-46e1-b314-cca362ae096a",
        "colab": {
          "base_uri": "https://localhost:8080/",
          "height": 389
        }
      },
      "source": [
        "# Plot a couple of images from the dataset\n",
        "image_shape = (28, 28)\n",
        "fig, ax = plt.subplots(2, 3, figsize=(15, 5))\n",
        "# images from training data\n",
        "ax[0, 0].imshow(X_train[0].reshape(image_shape), cmap=plt.cm.gray_r)\n",
        "ax[0, 0].set_title('0-th image vector')\n",
        "ax[0, 1].imshow(X_train[300].reshape(image_shape), cmap=plt.cm.gray_r)\n",
        "ax[0, 1].set_title('300-th image vector')\n",
        "ax[0, 2].imshow(X_train[400].reshape(image_shape), cmap=plt.cm.gray_r)\n",
        "ax[0, 2].set_title('400-th image vector')\n",
        "\n",
        "# images from testing data\n",
        "ax[1, 0].imshow(X_test[0].reshape(image_shape), cmap=plt.cm.gray_r, interpolation='nearest')\n",
        "ax[1, 0].set_title('0-th image vector, de-blurred')\n",
        "ax[1, 1].imshow(X_test[300].reshape(image_shape), cmap=plt.cm.gray_r, interpolation='nearest')\n",
        "ax[1, 1].set_title('300-th image vector, de-blurred')\n",
        "ax[1, 2].imshow(X_test[400].reshape(image_shape), cmap=plt.cm.gray_r, interpolation='nearest')\n",
        "ax[1, 2].set_title('400-th image vector, de-blurred')\n",
        "\n",
        "plt.tight_layout()\n",
        "plt.show()"
      ],
      "execution_count": 0,
      "outputs": [
        {
          "output_type": "display_data",
          "data": {
            "image/png": "[encoded data removed]",
            "text/plain": [
              "<Figure size 1080x360 with 6 Axes>"
            ]
          },
          "metadata": {
            "tags": []
          }
        }
      ]
    },
    {
      "cell_type": "markdown",
      "metadata": {
        "id": "HTKN8o0SIM9k",
        "colab_type": "text"
      },
      "source": [
        "## Exercise 1: Build a Logistic Regression model to classify handwritten digits.\n",
        "\n",
        "\n",
        "#### Part A. Fit a logistic regression with linear boundary to the training data set\n",
        "\n",
        "Note that since there are 3 classes, you need to let `sklearn`'s logistic regression know that you are performing multiclass classification. Do this by setting the `multi_class` parameter, for example:\n",
        "``` python\n",
        "sklearn.linear_model.LogisticRegression(C=1., multi_class='multinomial')\n",
        "```"
      ]
    },
    {
      "cell_type": "code",
      "metadata": {
        "id": "wMPv0DSaIT5T",
        "colab_type": "code",
        "colab": {}
      },
      "source": [
        "# WRITE CODE"
      ],
      "execution_count": 0,
      "outputs": []
    },
    {
      "cell_type": "markdown",
      "metadata": {
        "id": "dI3xp3rTIvZo",
        "colab_type": "text"
      },
      "source": [
        "#### Part B.  Evaluate your classifier using accuracy and confusion matrices. \n",
        "\n",
        "Print the confusion matrix and accuracy of your classifier."
      ]
    },
    {
      "cell_type": "code",
      "metadata": {
        "id": "hYonRZAxIxXJ",
        "colab_type": "code",
        "colab": {}
      },
      "source": [
        "# WRITE CODE"
      ],
      "execution_count": 0,
      "outputs": []
    },
    {
      "cell_type": "markdown",
      "metadata": {
        "id": "kBu4Y63RI3bF",
        "colab_type": "text"
      },
      "source": [
        "Does your classifiers fit each class equally well? Why or why not (use your understanding of the data to determine why certain classes are harder to classify)?"
      ]
    },
    {
      "cell_type": "markdown",
      "metadata": {
        "id": "KhEiKwBqI6vo",
        "colab_type": "text"
      },
      "source": [
        "**Answer**: COMPLETE"
      ]
    },
    {
      "cell_type": "markdown",
      "metadata": {
        "id": "vETWR-j_JbVr",
        "colab_type": "text"
      },
      "source": [
        "## Exercise 2: Build a neural network model to classify handwritten digits.\n",
        "\n",
        "\n",
        "#### Part A. Fit a neural network with your choice of architecture and activation to the training data set\n",
        "\n",
        "Note that since there are 3 classes, you need to let `keras` neural network model know that you are performing multiclass classification. Do this by setting the number of output nodes in the output layer to be 3 and the activation in the output layer to be `softmax`. For example, \n",
        "``` python\n",
        "model.add(Dense(3, activation='softmax'))\n",
        "```\n",
        "You also need to set the loss function to be `categorical_crossentropy`. In particular:\n",
        "``` python\n",
        "model.compile(loss='categorical_crossentropy', optimizer=adam)\n",
        "```"
      ]
    },
    {
      "cell_type": "code",
      "metadata": {
        "id": "iYpUyLpjJaES",
        "colab_type": "code",
        "colab": {}
      },
      "source": [
        "# WRITE CODE"
      ],
      "execution_count": 0,
      "outputs": []
    },
    {
      "cell_type": "markdown",
      "metadata": {
        "id": "buaoXAycJrSY",
        "colab_type": "text"
      },
      "source": [
        "#### Part B.  Evaluate your classifier using accuracy and confusion matrices. \n",
        "\n",
        "Print the confusion matrix and accuracy of your classifier."
      ]
    },
    {
      "cell_type": "code",
      "metadata": {
        "id": "Mf1hiEmXJvpZ",
        "colab_type": "code",
        "colab": {}
      },
      "source": [
        "# WRITE CODE"
      ],
      "execution_count": 0,
      "outputs": []
    },
    {
      "cell_type": "markdown",
      "metadata": {
        "id": "KLaU9SnYw7O8",
        "colab_type": "text"
      },
      "source": [
        "\n",
        "Does your classifiers fit each class equally well? Why or why not (use your understanding of the data to determine why certain classes are harder to classify)?\n"
      ]
    },
    {
      "cell_type": "markdown",
      "metadata": {
        "id": "--SF_qbDJuQ4",
        "colab_type": "text"
      },
      "source": [
        "**Answer**: COMPLETE"
      ]
    },
    {
      "cell_type": "markdown",
      "metadata": {
        "id": "kmj4UE3mKFMT",
        "colab_type": "text"
      },
      "source": [
        "\n",
        "#### Part C.  Compare your neural network classifier to your logistic regression classifier. \n",
        "\n",
        "Which model performs best on this dataset and this task? Why do you think that is?"
      ]
    },
    {
      "cell_type": "markdown",
      "metadata": {
        "id": "MIwUtfG3KKZ7",
        "colab_type": "text"
      },
      "source": [
        "**Answer**: COMPLETE"
      ]
    },
    {
      "cell_type": "code",
      "metadata": {
        "id": "Julgv3QlKNS-",
        "colab_type": "code",
        "colab": {}
      },
      "source": [
        ""
      ],
      "execution_count": 0,
      "outputs": []
    }
  ]
}