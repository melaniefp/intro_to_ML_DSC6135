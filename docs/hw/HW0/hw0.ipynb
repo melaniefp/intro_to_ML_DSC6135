{
 "cells": [
  {
   "cell_type": "markdown",
   "metadata": {},
   "source": [
    "# HW0\n",
    "\n",
    "University of Rwanda DSC6135 Intro ML\n",
    "\n",
    "Author: TODO\n",
    "\n",
    "This is an introductiory homework and you do not need to make a submission. However, you will need the functions you implement for HW1.\n",
    "\n",
    "Good luck and enjoy!"
   ]
  },
  {
   "cell_type": "code",
   "execution_count": null,
   "metadata": {},
   "outputs": [],
   "source": [
    "import numpy as np"
   ]
  },
  {
   "cell_type": "code",
   "execution_count": null,
   "metadata": {},
   "outputs": [],
   "source": [
    "def calc_k_nearest_neighbors(data_NF, query_QF, K=1):\n",
    "    ''' Compute and return k-nearest neighbors under Euclidean distance\n",
    "\n",
    "    Any ties in distance may be broken arbitrarily.\n",
    "\n",
    "    Args\n",
    "    ----\n",
    "    data_NF : 2D array, shape = (n_examples, n_features) aka (N, F)\n",
    "        Each row is a feature vector for one example in dataset\n",
    "    query_QF : 2D array, shape = (n_queries, n_features) aka (Q, F)\n",
    "        Each row is a feature vector whose neighbors we want to find\n",
    "    K : int, positive (must be >= 1)\n",
    "        Number of neighbors to find per query vector\n",
    "\n",
    "    Returns\n",
    "    -------\n",
    "    neighb_QKF : 3D array, (n_queries, n_neighbors, n_feats) (Q, K, F)\n",
    "        Entry q,k is feature vector of the k-th neighbor of the q-th query\n",
    "    '''\n",
    "    # TODO fixme\n",
    "    return None"
   ]
  },
  {
   "cell_type": "markdown",
   "metadata": {},
   "source": [
    "**Question**: Plot (x,y) in the range [-5,5] where $y = \\mathbf{w}^T \\phi(\\mathbf{x})$, $\\mathbf{w} = [1,-0.4,0.2]$ and $\\phi(\\cdot)$ is a polynomial basis.\n",
    "\n",
    "(tip: use lambda functions)"
   ]
  },
  {
   "cell_type": "code",
   "execution_count": null,
   "metadata": {},
   "outputs": [],
   "source": []
  }
 ],
 "metadata": {
  "@webio": {
   "lastCommId": null,
   "lastKernelId": null
  },
  "kernelspec": {
   "display_name": "Python 3",
   "language": "python",
   "name": "python3"
  },
  "language_info": {
   "codemirror_mode": {
    "name": "ipython",
    "version": 3
   },
   "file_extension": ".py",
   "mimetype": "text/x-python",
   "name": "python",
   "nbconvert_exporter": "python",
   "pygments_lexer": "ipython3",
   "version": "3.6.8"
  }
 },
 "nbformat": 4,
 "nbformat_minor": 2
}
